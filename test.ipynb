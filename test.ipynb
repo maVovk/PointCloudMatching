{
 "cells": [
  {
   "cell_type": "code",
   "execution_count": 8,
   "metadata": {},
   "outputs": [],
   "source": [
    "import os\n",
    "import numpy as np\n",
    "import open3d as o3d"
   ]
  },
  {
   "cell_type": "code",
   "execution_count": 15,
   "metadata": {},
   "outputs": [
    {
     "data": {
      "text/plain": [
       "PointCloud with 258342 points."
      ]
     },
     "execution_count": 15,
     "metadata": {},
     "output_type": "execute_result"
    }
   ],
   "source": [
    "points3d = o3d.io.read_point_cloud('3DMatchBench/7-scenes-redkitchen/cloud_bin_0.ply')\n",
    "points3d"
   ]
  },
  {
   "cell_type": "code",
   "execution_count": 16,
   "metadata": {},
   "outputs": [
    {
     "data": {
      "text/plain": [
       "array([[ 0.04799998,  0.21599996,  0.80000001],\n",
       "       [ 0.05400002,  0.21599996,  0.80000001],\n",
       "       [ 0.06000006,  0.21599996,  0.80000001],\n",
       "       ...,\n",
       "       [-0.44400001, -1.32599998,  3.49399996],\n",
       "       [-0.43799996, -1.32599998,  3.49399996],\n",
       "       [-0.426     , -1.31999993,  3.49399996]])"
      ]
     },
     "execution_count": 16,
     "metadata": {},
     "output_type": "execute_result"
    }
   ],
   "source": [
    "np.asarray(points3d.points)"
   ]
  },
  {
   "cell_type": "code",
   "execution_count": 17,
   "metadata": {},
   "outputs": [
    {
     "data": {
      "text/plain": [
       "dtype('float64')"
      ]
     },
     "execution_count": 17,
     "metadata": {},
     "output_type": "execute_result"
    }
   ],
   "source": [
    "np.asarray(points3d.points).dtype"
   ]
  },
  {
   "cell_type": "code",
   "execution_count": 14,
   "metadata": {},
   "outputs": [
    {
     "data": {
      "text/plain": [
       "array([[ 0.6342792 ,  0.60562277,  0.35333985],\n",
       "       [ 0.6449546 ,  0.5971641 ,  0.35637185],\n",
       "       [ 0.62937343,  0.6095967 ,  0.3248829 ],\n",
       "       ...,\n",
       "       [-2.2738626 , -7.9960003 , -2.2363813 ],\n",
       "       [-2.3241282 , -7.997     , -2.236661  ],\n",
       "       [-2.3613188 , -7.9960003 , -2.2363813 ]], dtype=float32)"
      ]
     },
     "execution_count": 14,
     "metadata": {},
     "output_type": "execute_result"
    }
   ],
   "source": [
    "with np.load(os.path.join('./data/place_recognition_data/1710495365652851000', 'cloud.npz')) as CloudFile:\n",
    "    ref_cloud = CloudFile['arr_0']\n",
    "\n",
    "ref_cloud = ref_cloud[:, :3]\n",
    "ref_cloud = ref_cloud[ref_cloud == ref_cloud].reshape((-1, 3))\n",
    "ref_cloud"
   ]
  }
 ],
 "metadata": {
  "kernelspec": {
   "display_name": "automotive",
   "language": "python",
   "name": "python3"
  },
  "language_info": {
   "codemirror_mode": {
    "name": "ipython",
    "version": 3
   },
   "file_extension": ".py",
   "mimetype": "text/x-python",
   "name": "python",
   "nbconvert_exporter": "python",
   "pygments_lexer": "ipython3",
   "version": "3.8.20"
  }
 },
 "nbformat": 4,
 "nbformat_minor": 2
}
