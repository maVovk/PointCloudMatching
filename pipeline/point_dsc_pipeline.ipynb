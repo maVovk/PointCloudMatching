{
 "cells": [
  {
   "cell_type": "code",
   "execution_count": 1,
   "metadata": {},
   "outputs": [
    {
     "name": "stdout",
     "output_type": "stream",
     "text": [
      "Jupyter environment detected. Enabling Open3D WebVisualizer.\n",
      "[Open3D INFO] WebRTC GUI backend enabled.\n",
      "[Open3D INFO] WebRTCWindowSystem: HTTP handshake server disabled.\n"
     ]
    }
   ],
   "source": [
    "import copy\n",
    "import json\n",
    "import os\n",
    "import time\n",
    "import torch\n",
    "\n",
    "import numpy as np\n",
    "import matplotlib as mpt\n",
    "import matplotlib.pyplot as plt\n",
    "import open3d as o3d\n",
    "import open3d.t.pipelines.registration as treg\n",
    "import torch.nn as nn\n",
    "\n",
    "from igraph import *\n",
    "from tqdm.notebook import tqdm\n",
    "from easydict import EasyDict as edict\n",
    "from scipy.spatial.transform import Rotation\n",
    "\n",
    "%matplotlib inline"
   ]
  },
  {
   "cell_type": "markdown",
   "metadata": {},
   "source": [
    "# Вспомогательные функции"
   ]
  },
  {
   "cell_type": "code",
   "execution_count": 2,
   "metadata": {},
   "outputs": [],
   "source": [
    "preprocess_time = []\n",
    "transform_time = []"
   ]
  },
  {
   "cell_type": "markdown",
   "metadata": {},
   "source": [
    "### Базовые функции"
   ]
  },
  {
   "cell_type": "code",
   "execution_count": 3,
   "metadata": {},
   "outputs": [],
   "source": [
    "def visualize_pcd(ref_cloud, color=False):\n",
    "    pcd = o3d.geometry.PointCloud()\n",
    "    pcd.points = o3d.utility.Vector3dVector(ref_cloud[:, :3])\n",
    "    if color:\n",
    "        pcd.colors = o3d.utility.Vector3dVector(ref_cloud[:, 3:] / 255)\n",
    "\n",
    "    o3d.visualization.draw_plotly([pcd], width=800, height=600)\n",
    "\n",
    "\n",
    "def draw_registration_result(source, target, transformation, title=None):\n",
    "    source_temp = copy.deepcopy(source)\n",
    "    target_temp = copy.deepcopy(target)\n",
    "    \n",
    "    source_temp.paint_uniform_color([1, 0.706, 0])\n",
    "    target_temp.paint_uniform_color([0, 0.651, 0.929])\n",
    "\n",
    "    source_temp.transform(transformation)\n",
    "\n",
    "    if title is not None:\n",
    "        print(title)\n",
    "\n",
    "    o3d.visualization.draw_plotly([source_temp, target_temp])\n",
    "\n",
    "\n",
    "def compare_grids(grid1, grid2, label1='Current grid', label2='Reference grid'):\n",
    "    fig, axs = plt.subplots(1, 2, figsize=(10, 5))\n",
    "    cmap = mpt.colors.ListedColormap(['white', 'gray', 'black'])\n",
    "\n",
    "    axs[0].imshow(grid1, cmap=cmap)\n",
    "    axs[0].set_title(label1)\n",
    "    axs[0].grid(True, alpha=0.5, linestyle='-')\n",
    "\n",
    "    axs[1].imshow(grid2, cmap=cmap)\n",
    "    axs[1].set_title(label2)\n",
    "    axs[1].grid(True, alpha=0.5, linestyle='-')\n",
    "\n",
    "    fig.tight_layout()\n",
    "    fig.show()\n",
    "\n",
    "\n",
    "def visualize_iou(aligned_grid):\n",
    "    plt.imshow(aligned_grid)\n",
    "    plt.axis(False)\n",
    "    plt.grid(True, alpha=0.5, linestyle='-')\n",
    "\n",
    "    plt.show()\n",
    "\n",
    "\n",
    "def make_pcd_from_array(array):\n",
    "    pcd = o3d.geometry.PointCloud()\n",
    "    pcd.points = o3d.utility.Vector3dVector(array)\n",
    "\n",
    "    return pcd"
   ]
  },
  {
   "cell_type": "code",
   "execution_count": 4,
   "metadata": {},
   "outputs": [],
   "source": [
    "def remove_floor_and_ceil(cloud, floor_height=-0.9, ceil_height=1.5):\n",
    "    heights = np.linspace(-4.0, 4.0, 41)\n",
    "    floor_index = None\n",
    "    if floor_height == 'auto':\n",
    "        bins = []\n",
    "        for i, height in enumerate(heights[:-1]):\n",
    "            bins.append(len(cloud[(cloud[:, 2] > height) * (cloud[:, 2] < heights[i + 1])]))\n",
    "        #print('Bins:', bins)\n",
    "        floor_index = np.argmax(bins[:20]) + 1\n",
    "        floor_height = heights[floor_index]\n",
    "        assert floor_index < len(heights) - 5\n",
    "    if ceil_height == 'auto':\n",
    "        if floor_index is None:\n",
    "            floor_index = 0\n",
    "            while floor_index < len(heights) - 6 and heights[floor_index] < floor_height:\n",
    "                floor_index += 1\n",
    "        ceil_index = floor_index + 5 + np.argmax(bins[floor_index + 5:])\n",
    "        ceil_height = heights[ceil_index]\n",
    "    #print('Floor height:', floor_height)\n",
    "    #print('Ceil height:', ceil_height)\n",
    "    return cloud[(cloud[:, 2] > floor_height) * (cloud[:, 2] < ceil_height)]"
   ]
  },
  {
   "cell_type": "code",
   "execution_count": 5,
   "metadata": {},
   "outputs": [],
   "source": [
    "def raycast(grid, n_rays=1000, center_point=None):\n",
    "    grid_raycasted = grid.copy()\n",
    "    if center_point is None:\n",
    "        center_point = (grid.shape[0] // 2, grid.shape[1] // 2)\n",
    "    resolution = 0.1\n",
    "    radius = 8.0 / resolution\n",
    "    for sector in range(n_rays):\n",
    "        angle = sector / n_rays * 2 * np.pi - np.pi\n",
    "        ii = center_point[0] + np.sin(angle) * np.arange(0, radius)\n",
    "        jj = center_point[1] + np.cos(angle) * np.arange(0, radius)\n",
    "        ii = ii.astype(int)\n",
    "        jj = jj.astype(int)\n",
    "        good_ids = ((ii > 0) * (ii < grid.shape[0]) ** (jj > 0) * (jj < grid.shape[1])).astype(bool)\n",
    "        ii = ii[good_ids]\n",
    "        jj = jj[good_ids]\n",
    "        points_on_ray = grid[ii, jj]\n",
    "        if len(points_on_ray.nonzero()[0]) > 0:\n",
    "            last_obst = points_on_ray.nonzero()[0][-1]\n",
    "            grid_raycasted[ii[:last_obst], jj[:last_obst]] = 1\n",
    "        #else:\n",
    "            #grid_raycasted[ii, jj] = 1\n",
    "    return grid_raycasted"
   ]
  },
  {
   "cell_type": "code",
   "execution_count": 6,
   "metadata": {},
   "outputs": [],
   "source": [
    "from scipy.ndimage import affine_transform\n",
    "\n",
    "def transform_grid(grid, x, y, theta):\n",
    "    shift_vector = np.array([x, y])\n",
    "    rotation_matrix = np.array([\n",
    "        [np.cos(theta), np.sin(theta)],\n",
    "        [-np.sin(theta), np.cos(theta)]\n",
    "    ])\n",
    "\n",
    "    center = np.array(grid.shape) / 2\n",
    "    offset = center - rotation_matrix @ center\n",
    "    offset += shift_vector\n",
    "\n",
    "    grid_transformed = np.zeros(grid.size).reshape(grid.shape)\n",
    "    grid_transformed = affine_transform(grid, rotation_matrix, offset=offset, order=0, mode='constant', cval=0)\n",
    "    grid_transformed = grid_transformed.astype(np.uint8)\n",
    "    return grid_transformed\n",
    "\n",
    "def transform_pcd(cloud, x, y, theta):\n",
    "    pcd_transformed = cloud.copy()  # эта функция нигде не вызывается, оставляем так\n",
    "    return pcd_transformed"
   ]
  },
  {
   "cell_type": "code",
   "execution_count": 7,
   "metadata": {},
   "outputs": [],
   "source": [
    "def get_occupancy_grid(points_xyz, resolution=0.1, radius=18, clip=8):\n",
    "    index = np.isnan(points_xyz).any(axis=1)\n",
    "    \n",
    "    points_xyz = np.delete(points_xyz, index, axis=0)\n",
    "    points_xyz = points_xyz[(points_xyz[:, 0] > -clip) * (points_xyz[:, 0] < clip) * \\\n",
    "                            (points_xyz[:, 1] > -clip) * (points_xyz[:, 1] < clip)]\n",
    "    points_xyz_obstacles = remove_floor_and_ceil(points_xyz, floor_height=-0.3, ceil_height=0.5)\n",
    "\n",
    "    #print('Points xyz:', points_xyz.shape, points_xyz[0], points_xyz.min(), points_xyz.max())\n",
    "    grid = np.zeros((int(2 * radius / resolution), int(2 * radius / resolution)), dtype=np.uint8)\n",
    "    points_ij = np.round(points_xyz[:, :2] / resolution).astype(int) + \\\n",
    "                        [int(radius / resolution), int(radius / resolution)]\n",
    "    points_ij = points_ij[(points_ij[:, 0] >= 0) * (points_ij[:, 0] < grid.shape[0]) * \\\n",
    "                          (points_ij[:, 1] >= 0) * (points_ij[:, 1] < grid.shape[1])]\n",
    "    \n",
    "    grid[points_ij[:, 0], points_ij[:, 1]] = 1\n",
    "    grid = raycast(grid)\n",
    "    \n",
    "    points_ij = np.round(points_xyz_obstacles[:, :2] / resolution).astype(int) + \\\n",
    "                [int(radius / resolution), int(radius / resolution)]\n",
    "    points_ij = points_ij[(points_ij[:, 0] >= 0) * (points_ij[:, 0] < grid.shape[0]) * \\\n",
    "                          (points_ij[:, 1] >= 0) * (points_ij[:, 1] < grid.shape[1])]\n",
    "    \n",
    "    grid[points_ij[:, 0], points_ij[:, 1]] = 2\n",
    "    return grid"
   ]
  },
  {
   "cell_type": "code",
   "execution_count": 8,
   "metadata": {},
   "outputs": [],
   "source": [
    "def get_iou_of_grids(rel_x, rel_y, rel_theta, cur_grid, v_grid, visualize, save=False, cnt=0):\n",
    "    rel_x_rotated = -rel_x * np.cos(rel_theta) - rel_y * np.sin(rel_theta)\n",
    "    rel_y_rotated = rel_x * np.sin(rel_theta) - rel_y * np.cos(rel_theta)\n",
    "    rel_x, rel_y = rel_x_rotated, rel_y_rotated\n",
    "    \n",
    "    cur_grid_transformed = transform_grid(cur_grid, rel_x, rel_y, rel_theta)\n",
    "    cur_grid_transformed[cur_grid_transformed > 0] = 1\n",
    "    \n",
    "    v_grid_copy = v_grid.copy()\n",
    "    v_grid_copy[v_grid_copy > 0] = 1\n",
    "    \n",
    "    intersection = np.sum(v_grid_copy * cur_grid_transformed)\n",
    "    union = np.sum(v_grid_copy | cur_grid_transformed)\n",
    "\n",
    "    grid_aligned = np.zeros((v_grid.shape[0], v_grid.shape[1], 3))\n",
    "    grid_aligned[:, :, 0] = cur_grid_transformed\n",
    "    grid_aligned[:, :, 1] = v_grid\n",
    "    grid_aligned = (grid_aligned * 255).astype(np.uint8)\n",
    "    \n",
    "    if visualize:\n",
    "        visualize_iou(grid_aligned)\n",
    "\n",
    "    return intersection / union"
   ]
  },
  {
   "cell_type": "code",
   "execution_count": 9,
   "metadata": {},
   "outputs": [],
   "source": [
    "def get_iou(rel_x, rel_y, rel_theta, cur_cloud, v_cloud, visualize=False):\n",
    "    cur_grid = get_occupancy_grid(cur_cloud)\n",
    "    v_grid = get_occupancy_grid(v_cloud)\n",
    "\n",
    "    try:\n",
    "        return get_iou_of_grids(rel_x, rel_y, rel_theta, cur_grid, v_grid, visualize)\n",
    "    except ZeroDivisionError:\n",
    "        return 0\n",
    "    except Exception as e:\n",
    "        print(e)\n",
    "        return 0"
   ]
  },
  {
   "cell_type": "code",
   "execution_count": 10,
   "metadata": {},
   "outputs": [],
   "source": [
    "def normalize(angle):\n",
    "    while angle > np.pi:\n",
    "        angle -= 2 * np.pi\n",
    "    while angle < -np.pi:\n",
    "        angle += 2 * np.pi\n",
    "    return angle\n",
    "\n",
    "def transformation_error(gt_pose_shift, tf_matrix_estimated):\n",
    "    tf_rotation = Rotation.from_matrix(tf_matrix_estimated[:3, :3]).as_rotvec()\n",
    "    gt_x, gt_y, gt_angle = gt_pose_shift\n",
    "    #gt_angle = -gt_angle\n",
    "    estimated_angle = tf_rotation[2]\n",
    "    estimated_x = tf_matrix_estimated[0, 3]\n",
    "    estimated_y = tf_matrix_estimated[1, 3]\n",
    "    return (np.abs(estimated_x - gt_x), np.abs(estimated_y - gt_y), np.abs(normalize(estimated_angle - gt_angle)))"
   ]
  },
  {
   "cell_type": "code",
   "execution_count": 11,
   "metadata": {},
   "outputs": [],
   "source": [
    "def get_rel_pose(x1, y1, theta1, x2, y2, theta2):\n",
    "    return [x1 - x2, y1 - y2, theta1 - theta2]"
   ]
  },
  {
   "cell_type": "markdown",
   "metadata": {},
   "source": [
    "### PointDSC"
   ]
  },
  {
   "cell_type": "code",
   "execution_count": 12,
   "metadata": {},
   "outputs": [],
   "source": [
    "import sys\n",
    "\n",
    "sys.path.insert(1, '/home/mavovk/TestTask')\n",
    "sys.path.insert(1, '/home/mavovk/TestTask/PointDSC')"
   ]
  },
  {
   "cell_type": "code",
   "execution_count": 13,
   "metadata": {},
   "outputs": [],
   "source": [
    "from PointDSC.models.PointDSC import PointDSC"
   ]
  },
  {
   "cell_type": "code",
   "execution_count": 14,
   "metadata": {},
   "outputs": [],
   "source": [
    "chosen_snapshot = 'PointDSC_KITTI_release'\n",
    "\n",
    "config_path = f'../PointDSC/snapshot/{chosen_snapshot}/config.json'\n",
    "config = json.load(open(config_path, 'r'))\n",
    "config = edict(config)\n",
    "\n",
    "device = torch.device('cuda')"
   ]
  },
  {
   "cell_type": "code",
   "execution_count": 15,
   "metadata": {},
   "outputs": [
    {
     "name": "stdout",
     "output_type": "stream",
     "text": [
      "\n"
     ]
    },
    {
     "name": "stderr",
     "output_type": "stream",
     "text": [
      "/tmp/ipykernel_4796/4222541985.py:11: FutureWarning: You are using `torch.load` with `weights_only=False` (the current default value), which uses the default pickle module implicitly. It is possible to construct malicious pickle data which will execute arbitrary code during unpickling (See https://github.com/pytorch/pytorch/blob/main/SECURITY.md#untrusted-models for more details). In a future release, the default value for `weights_only` will be flipped to `True`. This limits the functions that could be executed during unpickling. Arbitrary objects will no longer be allowed to be loaded via this mode unless they are explicitly allowlisted by the user via `torch.serialization.add_safe_globals`. We recommend you start setting `weights_only=True` for any use case where you don't have full control of the loaded file. Please open an issue on GitHub for any issues related to this experimental feature.\n",
      "  miss = model.load_state_dict(torch.load(f'../PointDSC/snapshot/{chosen_snapshot}/models/model_best.pkl', map_location=device), strict=False)\n"
     ]
    }
   ],
   "source": [
    "model = PointDSC(\n",
    "    in_dim=config.in_dim,\n",
    "    num_layers=config.num_layers,\n",
    "    num_channels=config.num_channels,\n",
    "    num_iterations=config.num_iterations,\n",
    "    ratio=config.ratio,\n",
    "    sigma_d=config.sigma_d,\n",
    "    k=config.k,\n",
    "    nms_radius=config.inlier_threshold,\n",
    ").to(device)\n",
    "miss = model.load_state_dict(torch.load(f'../PointDSC/snapshot/{chosen_snapshot}/models/model_best.pkl', map_location=device), strict=False)\n",
    "model.eval()\n",
    "print()"
   ]
  },
  {
   "cell_type": "code",
   "execution_count": 16,
   "metadata": {},
   "outputs": [],
   "source": [
    "def extract_fpfh_features(raw_pcd, downsample):\n",
    "    global preprocess_time\n",
    "\n",
    "    t0 = time.perf_counter()\n",
    "\n",
    "    pcd = make_pcd_from_array(raw_pcd)\n",
    "\n",
    "    pcd.estimate_normals(search_param=o3d.geometry.KDTreeSearchParamHybrid(radius=downsample * 2, max_nn=30))\n",
    "    keypts = pcd.voxel_down_sample(downsample)\n",
    "    \n",
    "    features = o3d.pipelines.registration.compute_fpfh_feature(keypts, o3d.geometry.KDTreeSearchParamHybrid(\n",
    "        radius=downsample * 5, max_nn=100))\n",
    "    features = np.array(features.data).T\n",
    "    features = features / (np.linalg.norm(features, axis=1, keepdims=True) + 1e-6)\n",
    "\n",
    "    preprocess_time.append(time.perf_counter() - t0)\n",
    "    return pcd, np.array(keypts.points), features"
   ]
  },
  {
   "cell_type": "code",
   "execution_count": 17,
   "metadata": {},
   "outputs": [],
   "source": [
    "def get_point_dsc_transform(src_pts, src_features, tgt_pts, tgt_features):\n",
    "    global transform_time\n",
    "\n",
    "    t0 = time.perf_counter()\n",
    "\n",
    "    distance = np.sqrt(2 - 2 * (src_features @ tgt_features.T) + 1e-6)\n",
    "    source_idx = np.argmin(distance, axis=1)\n",
    "    source_dis = np.min(distance, axis=1)\n",
    "    corr = np.concatenate([np.arange(source_idx.shape[0])[:, None], source_idx[:, None]], axis=-1)\n",
    "    src_keypts = src_pts[corr[:,0]]\n",
    "    tgt_keypts = tgt_pts[corr[:,1]]\n",
    "    corr_pos = np.concatenate([src_keypts, tgt_keypts], axis=-1)\n",
    "    corr_pos = corr_pos - corr_pos.mean(0)\n",
    "\n",
    "    # outlier rejection\n",
    "    data = {\n",
    "        'corr_pos': torch.from_numpy(corr_pos)[None].to(device).float(),\n",
    "        'src_keypts': torch.from_numpy(src_keypts)[None].to(device).float(),\n",
    "        'tgt_keypts': torch.from_numpy(tgt_keypts)[None].to(device).float(),\n",
    "        'testing': True,\n",
    "    }\n",
    "    res = model(data)\n",
    "\n",
    "    transform_time.append(time.perf_counter() - t0)\n",
    "\n",
    "    return res['final_trans'][0].detach().cpu().numpy()"
   ]
  },
  {
   "cell_type": "markdown",
   "metadata": {},
   "source": [
    "# Pipeline"
   ]
  },
  {
   "cell_type": "markdown",
   "metadata": {},
   "source": [
    "## Registration"
   ]
  },
  {
   "cell_type": "code",
   "execution_count": 18,
   "metadata": {},
   "outputs": [],
   "source": [
    "ious = []\n",
    "dists = []\n",
    "registration_results = []\n",
    "calculated_dirs = []"
   ]
  },
  {
   "cell_type": "code",
   "execution_count": 19,
   "metadata": {},
   "outputs": [],
   "source": [
    "# Change to the actual path to dataset\n",
    "dataset_dir = '../data'\n",
    "pr_data_dir = os.path.join(dataset_dir, 'place_recognition_data')\n",
    "graph_data_dir = os.path.join(dataset_dir, 'graph_data')"
   ]
  },
  {
   "cell_type": "code",
   "execution_count": 20,
   "metadata": {},
   "outputs": [],
   "source": [
    "data_dir = '../fastmac_data/PointDSC'\n",
    "counter = 0"
   ]
  },
  {
   "cell_type": "code",
   "execution_count": 21,
   "metadata": {},
   "outputs": [
    {
     "name": "stderr",
     "output_type": "stream",
     "text": [
      "/tmp/ipykernel_4796/1373360221.py:1: UserWarning: loadtxt: input contained no data: \"../fastmac_data/PointDSC/tested_dirs.txt\"\n",
      "  calculated_dirs = np.loadtxt(os.path.join(data_dir, 'tested_dirs.txt'))\n",
      "/tmp/ipykernel_4796/1373360221.py:3: UserWarning: loadtxt: input contained no data: \"../fastmac_data/PointDSC/result.txt\"\n",
      "  registration_results = list(np.loadtxt(os.path.join(data_dir, 'result.txt')))\n",
      "/tmp/ipykernel_4796/1373360221.py:4: UserWarning: loadtxt: input contained no data: \"../fastmac_data/PointDSC/mean_times.txt\"\n",
      "  all_times = np.loadtxt(os.path.join(data_dir, 'mean_times.txt'))\n"
     ]
    }
   ],
   "source": [
    "calculated_dirs = np.loadtxt(os.path.join(data_dir, 'tested_dirs.txt'))\n",
    "calculated_dirs = list(calculated_dirs.astype(int))\n",
    "registration_results = list(np.loadtxt(os.path.join(data_dir, 'result.txt')))\n",
    "all_times = np.loadtxt(os.path.join(data_dir, 'mean_times.txt'))"
   ]
  },
  {
   "cell_type": "code",
   "execution_count": 22,
   "metadata": {},
   "outputs": [
    {
     "data": {
      "application/vnd.jupyter.widget-view+json": {
       "model_id": "0311de7b079e48b2bd09d683046e524d",
       "version_major": 2,
       "version_minor": 0
      },
      "text/plain": [
       "  0%|          | 0/1648 [00:00<?, ?it/s]"
      ]
     },
     "metadata": {},
     "output_type": "display_data"
    },
    {
     "name": "stderr",
     "output_type": "stream",
     "text": [
      "/tmp/ipykernel_4796/4039379099.py:7: UserWarning: loadtxt: input contained no data: \"../data/place_recognition_data/1710495413820100000/transforms.txt\"\n",
      "  transforms_ = np.loadtxt(os.path.join(test_dir, 'transforms.txt'))\n",
      "/tmp/ipykernel_4796/4039379099.py:7: UserWarning: loadtxt: input contained no data: \"../data/place_recognition_data/1710506453259492000/transforms.txt\"\n",
      "  transforms_ = np.loadtxt(os.path.join(test_dir, 'transforms.txt'))\n",
      "/tmp/ipykernel_4796/4039379099.py:7: UserWarning: loadtxt: input contained no data: \"../data/place_recognition_data/1710504397952582000/transforms.txt\"\n",
      "  transforms_ = np.loadtxt(os.path.join(test_dir, 'transforms.txt'))\n",
      "/tmp/ipykernel_4796/4039379099.py:7: UserWarning: loadtxt: input contained no data: \"../data/place_recognition_data/1710505116224765000/transforms.txt\"\n",
      "  transforms_ = np.loadtxt(os.path.join(test_dir, 'transforms.txt'))\n",
      "/tmp/ipykernel_4796/4039379099.py:7: UserWarning: loadtxt: input contained no data: \"../data/place_recognition_data/1710495473442830000/transforms.txt\"\n",
      "  transforms_ = np.loadtxt(os.path.join(test_dir, 'transforms.txt'))\n",
      "/tmp/ipykernel_4796/4039379099.py:7: UserWarning: loadtxt: input contained no data: \"../data/place_recognition_data/1710495365652851000/transforms.txt\"\n",
      "  transforms_ = np.loadtxt(os.path.join(test_dir, 'transforms.txt'))\n"
     ]
    }
   ],
   "source": [
    "for ii, test_name in tqdm(list(enumerate(os.listdir(pr_data_dir)))):\n",
    "    if int(test_name) in calculated_dirs:\n",
    "        continue\n",
    "\n",
    "    test_dir = os.path.join(pr_data_dir, test_name)\n",
    "    try:\n",
    "        transforms_ = np.loadtxt(os.path.join(test_dir, 'transforms.txt'))\n",
    "    except FileNotFoundError:\n",
    "        continue\n",
    "\n",
    "    if transforms_.size == 0:\n",
    "        continue\n",
    "    if transforms_.ndim == 1:\n",
    "        transforms_ = transforms_[np.newaxis, :]\n",
    "\n",
    "    cand_clouds = {}\n",
    "    cand_poses = {}\n",
    "\n",
    "    # Reference cloud (from robot)\n",
    "    with np.load(os.path.join(test_dir, 'cloud.npz')) as CloudFile:\n",
    "        ref_cloud = CloudFile['arr_0']\n",
    "\n",
    "    ref_cloud = ref_cloud[:, :3]\n",
    "    ref_cloud = ref_cloud[ref_cloud == ref_cloud].reshape((-1, 3))\n",
    "\n",
    "    if transforms_.size == 0:\n",
    "        pass\n",
    "\n",
    "    for idx in transforms_[:, 0]:\n",
    "        cloud = np.load(os.path.join(graph_data_dir, str(int(idx)), 'cloud.npz'))['arr_0']\n",
    "        pose_stamped = np.loadtxt(os.path.join(graph_data_dir, str(int(idx)), 'pose_stamped.txt'))\n",
    "        cand_clouds[int(idx)] = cloud\n",
    "        cand_poses[int(idx)] = pose_stamped[1:]\n",
    "\n",
    "    gt_poses = np.loadtxt(os.path.join(test_dir, 'gt_poses.txt'))\n",
    "\n",
    "    for i in range(transforms_.size // 7):\n",
    "        idx = transforms_[i, 0]\n",
    "        gt_pose = cand_poses[int(idx)]\n",
    "        pose_shift = get_rel_pose(*gt_poses[0], *gt_pose)\n",
    "\n",
    "        # Candidate cloud (from graph of locations)\n",
    "        cloud = cand_clouds[idx][:, :3]\n",
    "        cloud = cloud[cloud == cloud].reshape((-1, 3))\n",
    "\n",
    "        pose_shift = get_rel_pose(*gt_poses[0], *gt_pose)\n",
    "        dist = np.sqrt(pose_shift[0] ** 2 + pose_shift[1] ** 2)\n",
    "        iou = get_iou(*pose_shift, ref_cloud, cloud, visualize=False)\n",
    "\n",
    "        voxel_size = 0.2\n",
    "\n",
    "        raw_src_pcd, src_pts, src_features = extract_fpfh_features(ref_cloud, voxel_size)\n",
    "        raw_tgt_pcd, tgt_pts, tgt_features = extract_fpfh_features(cloud, voxel_size)\n",
    "\n",
    "        transformation_matrix = get_point_dsc_transform(src_pts, src_features, tgt_pts, tgt_features)\n",
    "\n",
    "        er = transformation_error(pose_shift, transformation_matrix)\n",
    "        evaluation = o3d.pipelines.registration.evaluate_registration(make_pcd_from_array(ref_cloud), make_pcd_from_array(cloud), 0.9, transformation_matrix)\n",
    "        registration_results.append([evaluation.fitness, *er, iou])\n",
    "        all_times = np.append(all_times, [preprocess_time[-1], transform_time[-1]])\n",
    "\n",
    "    calculated_dirs.append(test_name)\n",
    "    np.savetxt(os.path.join(data_dir, 'tested_dirs.txt'), np.array(calculated_dirs), fmt='%s')\n",
    "    np.savetxt(os.path.join(data_dir, 'result.txt'), np.array(registration_results))\n",
    "    np.savetxt(\n",
    "        os.path.join(data_dir, 'mean_times.txt'),\n",
    "        all_times\n",
    "    )"
   ]
  },
  {
   "cell_type": "code",
   "execution_count": 27,
   "metadata": {},
   "outputs": [
    {
     "data": {
      "text/plain": [
       "8025"
      ]
     },
     "execution_count": 27,
     "metadata": {},
     "output_type": "execute_result"
    }
   ],
   "source": [
    "len(transform_time)"
   ]
  },
  {
   "cell_type": "code",
   "execution_count": 31,
   "metadata": {},
   "outputs": [
    {
     "data": {
      "text/plain": [
       "(8025,)"
      ]
     },
     "execution_count": 31,
     "metadata": {},
     "output_type": "execute_result"
    }
   ],
   "source": [
    "all_times[::2].shape"
   ]
  },
  {
   "cell_type": "code",
   "execution_count": 32,
   "metadata": {},
   "outputs": [
    {
     "data": {
      "text/plain": [
       "(8025,)"
      ]
     },
     "execution_count": 32,
     "metadata": {},
     "output_type": "execute_result"
    }
   ],
   "source": [
    "all_times[1::2].shape"
   ]
  },
  {
   "cell_type": "code",
   "execution_count": 33,
   "metadata": {},
   "outputs": [
    {
     "data": {
      "image/png": "[encoded data removed]",
      "text/plain": [
       "<Figure size 800x200 with 1 Axes>"
      ]
     },
     "metadata": {},
     "output_type": "display_data"
    }
   ],
   "source": [
    "mean_times = [np.mean(all_times[::2]) * 1000, np.mean(all_times[1::2]) * 1000]\n",
    "labels = ['Пропроцессинг', 'Transform']\n",
    "\n",
    "total_time = sum(mean_times)\n",
    "\n",
    "plt.figure(figsize=(8, 2))\n",
    "bar_height = 0.8\n",
    "\n",
    "plt.barh(['Total Time'], [mean_times[0]], height=bar_height, label=labels[0], color='skyblue')\n",
    "plt.barh(['Total Time'], [mean_times[1]], height=bar_height, left=[mean_times[0]], label=labels[1], color='orange')\n",
    "# plt.barh(['Total Time'], [mean_times[2]], height=bar_height, left=[mean_times[0] + mean_times[1]], label=labels[2], color='lightgreen')\n",
    "# plt.barh(['Total Time'], [mean_times[3]], height=bar_height, left=[mean_times[0] + mean_times[1] + mean_times[2]], label=labels[3], color='purple')\n",
    "\n",
    "for i, time in enumerate(mean_times):\n",
    "    x_position = sum(mean_times[:i]) + time / 2\n",
    "    plt.text(x_position, 0, f'{time:.1f}', ha='center', va='center', color='black', fontsize=10)\n",
    "\n",
    "plt.xlabel('Time')\n",
    "plt.title('Вклад в общее время работы')\n",
    "plt.legend(bbox_to_anchor=(1.05, 1), loc='upper left')\n",
    "plt.tight_layout()\n",
    "plt.show()"
   ]
  },
  {
   "cell_type": "code",
   "execution_count": 34,
   "metadata": {},
   "outputs": [
    {
     "data": {
      "image/png": "[encoded data removed]",
      "text/plain": [
       "<Figure size 800x200 with 1 Axes>"
      ]
     },
     "metadata": {},
     "output_type": "display_data"
    }
   ],
   "source": [
    "mean_times = [np.median(all_times[::2]) * 1000, np.median(all_times[1::2]) * 1000]\n",
    "labels = ['Пропроцессинг', 'Transform']\n",
    "\n",
    "total_time = sum(mean_times)\n",
    "\n",
    "plt.figure(figsize=(8, 2))\n",
    "bar_height = 0.8\n",
    "\n",
    "plt.barh(['Total Time'], [mean_times[0]], height=bar_height, label=labels[0], color='skyblue')\n",
    "plt.barh(['Total Time'], [mean_times[1]], height=bar_height, left=[mean_times[0]], label=labels[1], color='orange')\n",
    "# plt.barh(['Total Time'], [mean_times[2]], height=bar_height, left=[mean_times[0] + mean_times[1]], label=labels[2], color='lightgreen')\n",
    "# plt.barh(['Total Time'], [mean_times[3]], height=bar_height, left=[mean_times[0] + mean_times[1] + mean_times[2]], label=labels[3], color='purple')\n",
    "\n",
    "for i, time in enumerate(mean_times):\n",
    "    x_position = sum(mean_times[:i]) + time / 2\n",
    "    plt.text(x_position, 0, f'{time:.1f}', ha='center', va='center', color='black', fontsize=10)\n",
    "\n",
    "plt.xlabel('Time')\n",
    "plt.title('Вклад в общее время работы')\n",
    "plt.legend(bbox_to_anchor=(1.05, 1), loc='upper left')\n",
    "plt.tight_layout()\n",
    "plt.show()"
   ]
  },
  {
   "cell_type": "code",
   "execution_count": 37,
   "metadata": {},
   "outputs": [
    {
     "name": "stdout",
     "output_type": "stream",
     "text": [
      "Среднее время работы: 637 мс\n",
      "Медианное время работы: 301 мс\n"
     ]
    }
   ],
   "source": [
    "print(f\"Среднее время работы: {(np.mean(all_times[::2]) + np.mean(all_times[1::2])) * 1000:.0f} мс\")\n",
    "print(f\"Медианное время работы: {(np.median(all_times[::2]) + np.median(all_times[1::2])) * 1000:.0f} мс\")"
   ]
  },
  {
   "cell_type": "code",
   "execution_count": 24,
   "metadata": {},
   "outputs": [
    {
     "data": {
      "text/plain": [
       "8025"
      ]
     },
     "execution_count": 24,
     "metadata": {},
     "output_type": "execute_result"
    }
   ],
   "source": [
    "len(registration_results)"
   ]
  },
  {
   "cell_type": "code",
   "execution_count": 42,
   "metadata": {},
   "outputs": [],
   "source": [
    "ious = []\n",
    "icp_results = []\n",
    "\n",
    "for i in range(len(registration_results)):\n",
    "    ious.append(registration_results[i][-1])\n",
    "    icp_results.append(\n",
    "        [registration_results[i][0],\n",
    "        [registration_results[i][1], registration_results[i][2], registration_results[i][3]]]\n",
    "    )"
   ]
  },
  {
   "cell_type": "code",
   "execution_count": 43,
   "metadata": {},
   "outputs": [
    {
     "name": "stdout",
     "output_type": "stream",
     "text": [
      "Precision: 0.21199143468950749\n",
      "Recall with IoU > 0.5: 0.3444857496902107\n",
      "Recall with IoU > 0.25: 0.06485402273233787\n"
     ]
    }
   ],
   "source": [
    "threshold = 0.7\n",
    "print('Precision:', np.sum([(fitness > threshold) * (max(error) < 0.5) \\\n",
    "                                              for fitness, error in icp_results]) / \\\n",
    "                    np.sum([(fitness > threshold) for fitness, error in icp_results]))\n",
    "print('Recall with IoU > 0.5:', np.sum([(icp_results[i][0] > threshold) * (max(icp_results[i][1]) < 0.5) \\\n",
    "                                              for i in range(len(registration_results)) if ious[i] > 0.5]) / \\\n",
    "                                sum([i > 0.5 for i in ious]))\n",
    "print('Recall with IoU > 0.25:', np.sum([(icp_results[i][0] > threshold) * (max(icp_results[i][1]) < 0.5) \\\n",
    "                                              for i in range(len(registration_results)) if ious[i] > 0.25]) / \\\n",
    "                                sum([i > 0.25 for i in ious]))"
   ]
  },
  {
   "cell_type": "code",
   "execution_count": 42,
   "metadata": {},
   "outputs": [],
   "source": [
    "pos = 0\n",
    "errors = []\n",
    "transforms = []\n",
    "\n",
    "for root, dirs, files in os.walk(data_dir):\n",
    "    if 'trans.txt' in files:\n",
    "        trans_file_path = os.path.join(root, 'trans.txt')\n",
    "        transforms.append(\n",
    "            np.loadtxt(trans_file_path)\n",
    "        )"
   ]
  },
  {
   "cell_type": "code",
   "execution_count": 55,
   "metadata": {},
   "outputs": [
    {
     "data": {
      "application/vnd.jupyter.widget-view+json": {
       "model_id": "532aa44785784de88f12ced53b025ba2",
       "version_major": 2,
       "version_minor": 0
      },
      "text/plain": [
       "  0%|          | 0/1648 [00:00<?, ?it/s]"
      ]
     },
     "metadata": {},
     "output_type": "display_data"
    },
    {
     "name": "stderr",
     "output_type": "stream",
     "text": [
      "/tmp/ipykernel_39733/1622821447.py:4: UserWarning: loadtxt: input contained no data: \"../data/place_recognition_data/1710495413820100000/transforms.txt\"\n",
      "  transforms_ = np.loadtxt(os.path.join(test_dir, 'transforms.txt'))\n",
      "/tmp/ipykernel_39733/1622821447.py:4: UserWarning: loadtxt: input contained no data: \"../data/place_recognition_data/1710506453259492000/transforms.txt\"\n",
      "  transforms_ = np.loadtxt(os.path.join(test_dir, 'transforms.txt'))\n",
      "/tmp/ipykernel_39733/1622821447.py:4: UserWarning: loadtxt: input contained no data: \"../data/place_recognition_data/1710504397952582000/transforms.txt\"\n",
      "  transforms_ = np.loadtxt(os.path.join(test_dir, 'transforms.txt'))\n",
      "/tmp/ipykernel_39733/1622821447.py:4: UserWarning: loadtxt: input contained no data: \"../data/place_recognition_data/1710505116224765000/transforms.txt\"\n",
      "  transforms_ = np.loadtxt(os.path.join(test_dir, 'transforms.txt'))\n",
      "/tmp/ipykernel_39733/1622821447.py:4: UserWarning: loadtxt: input contained no data: \"../data/place_recognition_data/1710495473442830000/transforms.txt\"\n",
      "  transforms_ = np.loadtxt(os.path.join(test_dir, 'transforms.txt'))\n",
      "/tmp/ipykernel_39733/1622821447.py:4: UserWarning: loadtxt: input contained no data: \"../data/place_recognition_data/1710495365652851000/transforms.txt\"\n",
      "  transforms_ = np.loadtxt(os.path.join(test_dir, 'transforms.txt'))\n"
     ]
    }
   ],
   "source": [
    "for ii, test_name in tqdm(list(enumerate(os.listdir(pr_data_dir)))):\n",
    "    test_dir = os.path.join(pr_data_dir, test_name)\n",
    "    try:\n",
    "        transforms_ = np.loadtxt(os.path.join(test_dir, 'transforms.txt'))\n",
    "    except FileNotFoundError:\n",
    "        continue\n",
    "\n",
    "    if transforms_.size == 0:\n",
    "        continue\n",
    "    if transforms_.ndim == 1:\n",
    "        transforms_ = transforms_[np.newaxis, :]\n",
    "\n",
    "    cand_clouds = {}\n",
    "    cand_poses = {}\n",
    "\n",
    "    # Reference cloud (from robot)\n",
    "    with np.load(os.path.join(test_dir, 'cloud.npz')) as CloudFile:\n",
    "        ref_cloud = CloudFile['arr_0']\n",
    "\n",
    "    ref_cloud = ref_cloud[:, :3]\n",
    "    ref_cloud = ref_cloud[ref_cloud == ref_cloud].reshape((-1, 3))\n",
    "\n",
    "    if transforms_.size == 0:\n",
    "        pass\n",
    "\n",
    "    for idx in transforms_[:, 0]:\n",
    "        cloud = np.load(os.path.join(graph_data_dir, str(int(idx)), 'cloud.npz'))['arr_0']\n",
    "        pose_stamped = np.loadtxt(os.path.join(graph_data_dir, str(int(idx)), 'pose_stamped.txt'))\n",
    "        cand_clouds[int(idx)] = cloud\n",
    "        cand_poses[int(idx)] = pose_stamped[1:]\n",
    "\n",
    "    gt_poses = np.loadtxt(os.path.join(test_dir, 'gt_poses.txt'))\n",
    "\n",
    "    for i in range(transforms_.size // 7):\n",
    "        if pos >= len(transforms):\n",
    "            break\n",
    "\n",
    "        if np.linalg.det(transforms[pos]) == 0:\n",
    "            pos += 1\n",
    "            continue\n",
    "\n",
    "        idx = transforms_[i, 0]\n",
    "        gt_pose = cand_poses[int(idx)]\n",
    "        pose_shift = get_rel_pose(*gt_poses[0], *gt_pose)\n",
    "        iou = get_iou(*pose_shift, ref_cloud, cloud, visualize=False)\n",
    "\n",
    "        er = transformation_error(pose_shift, np.linalg.inv(transforms[pos]))\n",
    "        errors.append([iou, er])\n",
    "        pos += 1"
   ]
  },
  {
   "cell_type": "code",
   "execution_count": 56,
   "metadata": {},
   "outputs": [
    {
     "data": {
      "text/plain": [
       "0"
      ]
     },
     "execution_count": 56,
     "metadata": {},
     "output_type": "execute_result"
    }
   ],
   "source": [
    "sum([(max(el[1]) < 0.5) for el in errors])"
   ]
  },
  {
   "cell_type": "code",
   "execution_count": null,
   "metadata": {},
   "outputs": [],
   "source": [
    "threshold = 0.7\n",
    "# print('Precision:', np.sum([(fitness > threshold) * (max(error) < 0.5) \\\n",
    "#                                               for fitness, error in icp_results]) / \\\n",
    "#                     np.sum([(fitness > threshold) for fitness, error in icp_results]))\n",
    "print('Recall with IoU > 0.5:', np.sum([(icp_results[i][0] > threshold) * (max(icp_results[i][1]) < 0.5) \\\n",
    "                                              for i in range(155) if ious[i] > 0.5]) / \\\n",
    "                                sum([i > 0.5 for i in ious]))\n",
    "print('Recall with IoU > 0.25:', np.sum([(icp_results[i][0] > threshold) * (max(icp_results[i][1]) < 0.5) \\\n",
    "                                              for i in range(155) if ious[i] > 0.25]) / \\\n",
    "                                sum([i > 0.25 for i in ious]))"
   ]
  }
 ],
 "metadata": {
  "kernelspec": {
   "display_name": "fcgf",
   "language": "python",
   "name": "python3"
  },
  "language_info": {
   "codemirror_mode": {
    "name": "ipython",
    "version": 3
   },
   "file_extension": ".py",
   "mimetype": "text/x-python",
   "name": "python",
   "nbconvert_exporter": "python",
   "pygments_lexer": "ipython3",
   "version": "3.8.20"
  }
 },
 "nbformat": 4,
 "nbformat_minor": 2
}
