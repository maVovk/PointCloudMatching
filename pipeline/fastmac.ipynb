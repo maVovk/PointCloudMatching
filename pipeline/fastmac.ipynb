{
 "cells": [
  {
   "cell_type": "code",
   "execution_count": 1,
   "metadata": {},
   "outputs": [
    {
     "name": "stdout",
     "output_type": "stream",
     "text": [
      "Jupyter environment detected. Enabling Open3D WebVisualizer.\n",
      "[Open3D INFO] WebRTC GUI backend enabled.\n",
      "[Open3D INFO] WebRTCWindowSystem: HTTP handshake server disabled.\n"
     ]
    }
   ],
   "source": [
    "import os\n",
    "import numpy as np\n",
    "import matplotlib as mpt\n",
    "import matplotlib.pyplot as plt\n",
    "import torch\n",
    "import torch.nn as nn\n",
    "import open3d as o3d\n",
    "from igraph import *\n",
    "import open3d.t.pipelines.registration as treg\n",
    "from tqdm.notebook import tqdm\n",
    "%matplotlib inline"
   ]
  },
  {
   "cell_type": "code",
   "execution_count": 2,
   "metadata": {},
   "outputs": [],
   "source": [
    "from scipy.spatial.transform import Rotation\n",
    "import time\n",
    "import copy"
   ]
  },
  {
   "cell_type": "markdown",
   "metadata": {},
   "source": [
    "# Вспомогательные функции"
   ]
  },
  {
   "cell_type": "code",
   "execution_count": 3,
   "metadata": {},
   "outputs": [],
   "source": [
    "preprocess_time = []\n",
    "graph_construction_time = []\n",
    "max_clique_time = []\n",
    "transform_time = []"
   ]
  },
  {
   "cell_type": "code",
   "execution_count": 4,
   "metadata": {},
   "outputs": [],
   "source": [
    "def visualize_pcd(ref_cloud, color=False):\n",
    "    pcd = o3d.geometry.PointCloud()\n",
    "    pcd.points = o3d.utility.Vector3dVector(ref_cloud[:, :3])\n",
    "    if color:\n",
    "        pcd.colors = o3d.utility.Vector3dVector(ref_cloud[:, 3:] / 255)\n",
    "\n",
    "    o3d.visualization.draw_plotly([pcd], width=800, height=600)\n",
    "\n",
    "\n",
    "def draw_registration_result(source, target, transformation, title=None):\n",
    "    source_temp = copy.deepcopy(source)\n",
    "    target_temp = copy.deepcopy(target)\n",
    "    \n",
    "    source_temp.paint_uniform_color([1, 0.706, 0])\n",
    "    target_temp.paint_uniform_color([0, 0.651, 0.929])\n",
    "\n",
    "    source_temp.transform(transformation)\n",
    "\n",
    "    if title is not None:\n",
    "        print(title)\n",
    "\n",
    "    o3d.visualization.draw_plotly([source_temp, target_temp])\n",
    "\n",
    "\n",
    "def compare_grids(grid1, grid2, label1='Current grid', label2='Reference grid'):\n",
    "    fig, axs = plt.subplots(1, 2, figsize=(10, 5))\n",
    "    cmap = mpt.colors.ListedColormap(['white', 'gray', 'black'])\n",
    "\n",
    "    axs[0].imshow(grid1, cmap=cmap)\n",
    "    axs[0].set_title(label1)\n",
    "    axs[0].grid(True, alpha=0.5, linestyle='-')\n",
    "\n",
    "    axs[1].imshow(grid2, cmap=cmap)\n",
    "    axs[1].set_title(label2)\n",
    "    axs[1].grid(True, alpha=0.5, linestyle='-')\n",
    "\n",
    "    fig.tight_layout()\n",
    "    fig.show()\n",
    "\n",
    "\n",
    "def visualize_iou(aligned_grid):\n",
    "    plt.imshow(aligned_grid)\n",
    "    plt.axis(False)\n",
    "    plt.grid(True, alpha=0.5, linestyle='-')\n",
    "\n",
    "    plt.show()\n",
    "\n",
    "\n",
    "def make_pcd_from_array(array):\n",
    "    pcd = o3d.geometry.PointCloud()\n",
    "    pcd.points = o3d.utility.Vector3dVector(array)\n",
    "\n",
    "    return pcd"
   ]
  },
  {
   "cell_type": "code",
   "execution_count": 5,
   "metadata": {},
   "outputs": [],
   "source": [
    "def remove_floor_and_ceil(cloud, floor_height=-0.9, ceil_height=1.5):\n",
    "    heights = np.linspace(-4.0, 4.0, 41)\n",
    "    floor_index = None\n",
    "    if floor_height == 'auto':\n",
    "        bins = []\n",
    "        for i, height in enumerate(heights[:-1]):\n",
    "            bins.append(len(cloud[(cloud[:, 2] > height) * (cloud[:, 2] < heights[i + 1])]))\n",
    "        #print('Bins:', bins)\n",
    "        floor_index = np.argmax(bins[:20]) + 1\n",
    "        floor_height = heights[floor_index]\n",
    "        assert floor_index < len(heights) - 5\n",
    "    if ceil_height == 'auto':\n",
    "        if floor_index is None:\n",
    "            floor_index = 0\n",
    "            while floor_index < len(heights) - 6 and heights[floor_index] < floor_height:\n",
    "                floor_index += 1\n",
    "        ceil_index = floor_index + 5 + np.argmax(bins[floor_index + 5:])\n",
    "        ceil_height = heights[ceil_index]\n",
    "    #print('Floor height:', floor_height)\n",
    "    #print('Ceil height:', ceil_height)\n",
    "    return cloud[(cloud[:, 2] > floor_height) * (cloud[:, 2] < ceil_height)]"
   ]
  },
  {
   "cell_type": "code",
   "execution_count": 6,
   "metadata": {},
   "outputs": [],
   "source": [
    "def raycast(grid, n_rays=1000, center_point=None):\n",
    "    grid_raycasted = grid.copy()\n",
    "    if center_point is None:\n",
    "        center_point = (grid.shape[0] // 2, grid.shape[1] // 2)\n",
    "    resolution = 0.1\n",
    "    radius = 8.0 / resolution\n",
    "    for sector in range(n_rays):\n",
    "        angle = sector / n_rays * 2 * np.pi - np.pi\n",
    "        ii = center_point[0] + np.sin(angle) * np.arange(0, radius)\n",
    "        jj = center_point[1] + np.cos(angle) * np.arange(0, radius)\n",
    "        ii = ii.astype(int)\n",
    "        jj = jj.astype(int)\n",
    "        good_ids = ((ii > 0) * (ii < grid.shape[0]) ** (jj > 0) * (jj < grid.shape[1])).astype(bool)\n",
    "        ii = ii[good_ids]\n",
    "        jj = jj[good_ids]\n",
    "        points_on_ray = grid[ii, jj]\n",
    "        if len(points_on_ray.nonzero()[0]) > 0:\n",
    "            last_obst = points_on_ray.nonzero()[0][-1]\n",
    "            grid_raycasted[ii[:last_obst], jj[:last_obst]] = 1\n",
    "        #else:\n",
    "            #grid_raycasted[ii, jj] = 1\n",
    "    return grid_raycasted"
   ]
  },
  {
   "cell_type": "code",
   "execution_count": 7,
   "metadata": {},
   "outputs": [],
   "source": [
    "from scipy.ndimage import affine_transform\n",
    "\n",
    "def transform_grid(grid, x, y, theta):\n",
    "    shift_vector = np.array([x, y])\n",
    "    rotation_matrix = np.array([\n",
    "        [np.cos(theta), np.sin(theta)],\n",
    "        [-np.sin(theta), np.cos(theta)]\n",
    "    ])\n",
    "\n",
    "    center = np.array(grid.shape) / 2\n",
    "    offset = center - rotation_matrix @ center\n",
    "    offset += shift_vector\n",
    "\n",
    "    grid_transformed = np.zeros(grid.size).reshape(grid.shape)\n",
    "    grid_transformed = affine_transform(grid, rotation_matrix, offset=offset, order=0, mode='constant', cval=0)\n",
    "    grid_transformed = grid_transformed.astype(np.uint8)\n",
    "    return grid_transformed\n",
    "\n",
    "def transform_pcd(cloud, x, y, theta):\n",
    "    pcd_transformed = cloud.copy()  # эта функция нигде не вызывается, оставляем так\n",
    "    return pcd_transformed"
   ]
  },
  {
   "cell_type": "code",
   "execution_count": 8,
   "metadata": {},
   "outputs": [],
   "source": [
    "def get_occupancy_grid(points_xyz, resolution=0.1, radius=18, clip=8):\n",
    "    index = np.isnan(points_xyz).any(axis=1)\n",
    "    \n",
    "    points_xyz = np.delete(points_xyz, index, axis=0)\n",
    "    points_xyz = points_xyz[(points_xyz[:, 0] > -clip) * (points_xyz[:, 0] < clip) * \\\n",
    "                            (points_xyz[:, 1] > -clip) * (points_xyz[:, 1] < clip)]\n",
    "    points_xyz_obstacles = remove_floor_and_ceil(points_xyz, floor_height=-0.3, ceil_height=0.5)\n",
    "\n",
    "    #print('Points xyz:', points_xyz.shape, points_xyz[0], points_xyz.min(), points_xyz.max())\n",
    "    grid = np.zeros((int(2 * radius / resolution), int(2 * radius / resolution)), dtype=np.uint8)\n",
    "    points_ij = np.round(points_xyz[:, :2] / resolution).astype(int) + \\\n",
    "                        [int(radius / resolution), int(radius / resolution)]\n",
    "    points_ij = points_ij[(points_ij[:, 0] >= 0) * (points_ij[:, 0] < grid.shape[0]) * \\\n",
    "                          (points_ij[:, 1] >= 0) * (points_ij[:, 1] < grid.shape[1])]\n",
    "    \n",
    "    grid[points_ij[:, 0], points_ij[:, 1]] = 1\n",
    "    grid = raycast(grid)\n",
    "    \n",
    "    points_ij = np.round(points_xyz_obstacles[:, :2] / resolution).astype(int) + \\\n",
    "                [int(radius / resolution), int(radius / resolution)]\n",
    "    points_ij = points_ij[(points_ij[:, 0] >= 0) * (points_ij[:, 0] < grid.shape[0]) * \\\n",
    "                          (points_ij[:, 1] >= 0) * (points_ij[:, 1] < grid.shape[1])]\n",
    "    \n",
    "    grid[points_ij[:, 0], points_ij[:, 1]] = 2\n",
    "    return grid"
   ]
  },
  {
   "cell_type": "code",
   "execution_count": 9,
   "metadata": {},
   "outputs": [],
   "source": [
    "def get_iou_of_grids(rel_x, rel_y, rel_theta, cur_grid, v_grid, visualize, save=False, cnt=0):\n",
    "    rel_x_rotated = -rel_x * np.cos(rel_theta) - rel_y * np.sin(rel_theta)\n",
    "    rel_y_rotated = rel_x * np.sin(rel_theta) - rel_y * np.cos(rel_theta)\n",
    "    rel_x, rel_y = rel_x_rotated, rel_y_rotated\n",
    "    \n",
    "    cur_grid_transformed = transform_grid(cur_grid, rel_x, rel_y, rel_theta)\n",
    "    cur_grid_transformed[cur_grid_transformed > 0] = 1\n",
    "    \n",
    "    v_grid_copy = v_grid.copy()\n",
    "    v_grid_copy[v_grid_copy > 0] = 1\n",
    "    \n",
    "    intersection = np.sum(v_grid_copy * cur_grid_transformed)\n",
    "    union = np.sum(v_grid_copy | cur_grid_transformed)\n",
    "\n",
    "    grid_aligned = np.zeros((v_grid.shape[0], v_grid.shape[1], 3))\n",
    "    grid_aligned[:, :, 0] = cur_grid_transformed\n",
    "    grid_aligned[:, :, 1] = v_grid\n",
    "    grid_aligned = (grid_aligned * 255).astype(np.uint8)\n",
    "    \n",
    "    if visualize:\n",
    "        visualize_iou(grid_aligned)\n",
    "\n",
    "    return intersection / union"
   ]
  },
  {
   "cell_type": "code",
   "execution_count": 10,
   "metadata": {},
   "outputs": [],
   "source": [
    "def get_iou(rel_x, rel_y, rel_theta, cur_cloud, v_cloud, visualize=False):\n",
    "    cur_grid = get_occupancy_grid(cur_cloud)\n",
    "    v_grid = get_occupancy_grid(v_cloud)\n",
    "\n",
    "    try:\n",
    "        return get_iou_of_grids(rel_x, rel_y, rel_theta, cur_grid, v_grid, visualize)\n",
    "    except ZeroDivisionError:\n",
    "        return 0\n",
    "    except Exception as e:\n",
    "        print(e)\n",
    "        return 0"
   ]
  },
  {
   "cell_type": "code",
   "execution_count": 11,
   "metadata": {},
   "outputs": [],
   "source": [
    "def normalize(angle):\n",
    "    while angle > np.pi:\n",
    "        angle -= 2 * np.pi\n",
    "    while angle < -np.pi:\n",
    "        angle += 2 * np.pi\n",
    "    return angle\n",
    "\n",
    "def transformation_error(gt_pose_shift, tf_matrix_estimated):\n",
    "    tf_rotation = Rotation.from_matrix(tf_matrix_estimated[:3, :3]).as_rotvec()\n",
    "    gt_x, gt_y, gt_angle = gt_pose_shift\n",
    "    #gt_angle = -gt_angle\n",
    "    estimated_angle = tf_rotation[2]\n",
    "    estimated_x = tf_matrix_estimated[0, 3]\n",
    "    estimated_y = tf_matrix_estimated[1, 3]\n",
    "    return (np.abs(estimated_x - gt_x), np.abs(estimated_y - gt_y), np.abs(normalize(estimated_angle - gt_angle)))"
   ]
  },
  {
   "cell_type": "code",
   "execution_count": 12,
   "metadata": {},
   "outputs": [],
   "source": [
    "def get_rel_pose(x1, y1, theta1, x2, y2, theta2):\n",
    "    return [x1 - x2, y1 - y2, theta1 - theta2]"
   ]
  },
  {
   "cell_type": "code",
   "execution_count": 13,
   "metadata": {},
   "outputs": [],
   "source": [
    "from dataclasses import dataclass, asdict\n",
    "\n",
    "@dataclass\n",
    "class RegistrationResult:\n",
    "    method_name: str\n",
    "    data_cloud: str\n",
    "    candidate_idx: int\n",
    "    iou: float\n",
    "    dist: float\n",
    "    fitness: float\n",
    "    transform: list\n",
    "    error: list"
   ]
  },
  {
   "cell_type": "markdown",
   "metadata": {},
   "source": [
    "# FCGF"
   ]
  },
  {
   "cell_type": "code",
   "execution_count": 14,
   "metadata": {},
   "outputs": [],
   "source": [
    "fcgf_model_path = '../../FCGF/weights/kitti.pth'"
   ]
  },
  {
   "cell_type": "code",
   "execution_count": 15,
   "metadata": {},
   "outputs": [],
   "source": [
    "from fcgf import ResUNetBN2C as FCGF\n",
    "from cal_fcgf import extract_features\n",
    "\n",
    "def extract_fcgf(pcd, voxel_size, model_path):\n",
    "    fcgf_model = FCGF(\n",
    "        1,\n",
    "        32,\n",
    "        bn_momentum=0.05,\n",
    "        conv1_kernel_size=7,\n",
    "        normalize_feature=True\n",
    "    ).cuda()\n",
    "    checkpoints = torch.load(model_path)\n",
    "    # # 3DMatch: http://node2.chrischoy.org/data/projects/DGR/ResUNetBN2C-feat32-3dmatch-v0.05.pth\n",
    "    # # KITTI: http://node2.chrischoy.org/data/projects/DGR/ResUNetBN2C-feat32-kitti-v0.3.pth\n",
    "    fcgf_model.load_state_dict(checkpoints['state_dict'])\n",
    "    fcgf_model.eval()\n",
    "\n",
    "    xyz_down, features = extract_features(\n",
    "        fcgf_model,\n",
    "        xyz=pcd,\n",
    "        rgb=None,\n",
    "        normal=None,\n",
    "        voxel_size=voxel_size,\n",
    "        skip_check=True,\n",
    "    )\n",
    "    return xyz_down.astype(np.float32), features.detach().cpu().numpy()"
   ]
  },
  {
   "cell_type": "code",
   "execution_count": 16,
   "metadata": {},
   "outputs": [],
   "source": [
    "import sys\n",
    "sys.path.insert(1, '/home/mavovk/TestTask')"
   ]
  },
  {
   "cell_type": "code",
   "execution_count": 17,
   "metadata": {},
   "outputs": [],
   "source": [
    "from model import load_model\n",
    "\n",
    "def get_model(model_path, device):\n",
    "    checkpoint =  torch.load(model_path, weights_only=False)\n",
    "    config = checkpoint['config']\n",
    "\n",
    "    num_feats = 1\n",
    "    Model = load_model(config.model)\n",
    "\n",
    "    model = Model(num_feats, config.model_n_out, bn_momentum=0.05, normalize_feature=config.normalize_feature,\n",
    "                conv1_kernel_size=config.conv1_kernel_size, D=3)\n",
    "    model.load_state_dict(checkpoint['state_dict'])\n",
    "    model.eval()\n",
    "\n",
    "    model = model.to(device)\n",
    "\n",
    "    return model"
   ]
  },
  {
   "cell_type": "markdown",
   "metadata": {},
   "source": [
    "# FastMAC"
   ]
  },
  {
   "cell_type": "code",
   "execution_count": 18,
   "metadata": {},
   "outputs": [],
   "source": [
    "def euclidean(a, b):\n",
    "    return torch.norm(a - b, dim=-1, keepdim=True)\n",
    "\n",
    "def compatibility(a,b):\n",
    "    assert(a.shape[-1]==6)\n",
    "    assert(b.shape[-1]==6)\n",
    "    n1=torch.norm(a[...,:3]-b[...,:3],dim=-1,keepdim=True)\n",
    "    n2=torch.norm(a[...,3:]-b[...,3:],dim=-1,keepdim=True)\n",
    "    return torch.abs(n1-n2)\n",
    "\n",
    "def Dmatrix(a,type):\n",
    "    if type==\"euclidean\":\n",
    "        return torch.cdist(a,a)\n",
    "        \n",
    "    elif type==\"compatibility\":\n",
    "        a1=a[...,:3]\n",
    "        a2=a[...,3:]\n",
    "        return torch.abs(Dmatrix(a1,\"euclidean\")-Dmatrix(a2,\"euclidean\"))\n",
    "\n",
    "class GraphConstructor(nn.Module):\n",
    "    def __init__(self,inlier_thresh,thresh,trainable,device=\"cuda\",sigma=None,tau=None) -> None:\n",
    "        '''\n",
    "        inlier thresh: KITTI 0.6, 3dmatch 0.1\n",
    "        thresh: fpfh 0.9, fcgf 0.999\n",
    "        '''\n",
    "        super().__init__()\n",
    "        self.device=device\n",
    "        self.inlier_thresh=nn.Parameter(torch.tensor(inlier_thresh,requires_grad=trainable,dtype=torch.float32)).to(device)\n",
    "        self.thresh=nn.Parameter(torch.tensor(thresh,requires_grad=trainable,dtype=torch.float32)).to(device)\n",
    "        if sigma is not None:\n",
    "            self.sigma=nn.Parameter(torch.tensor(sigma,requires_grad=trainable,dtype=torch.float32)).to(device)\n",
    "        else:\n",
    "            self.sigma=self.inlier_thresh\n",
    "        if tau is not None:\n",
    "            self.tau=nn.Parameter(torch.tensor(tau,requires_grad=trainable,dtype=torch.float32)).to(device)\n",
    "        else:\n",
    "            self.tau=self.thresh\n",
    "    def forward(self,points,mode,k1=1,k2=1):\n",
    "        '''\n",
    "        points: B x M x 6\n",
    "        output: B x M x M\n",
    "        '''\n",
    "        if mode==\"correspondence\":\n",
    "            points=points.to(self.device)\n",
    "            dmatrix=Dmatrix(points,\"compatibility\")\n",
    "            score=1-dmatrix**2/self.inlier_thresh**2\n",
    "            # score=torch.exp(-dmatrix**2/self.inlier_thresh**2)\n",
    "            score[score<self.thresh]=0\n",
    "            if k1==1:\n",
    "                return score\n",
    "            else:\n",
    "                return score*torch.einsum(\"bmn,bnk->bmk\",score,score)\n",
    "        elif mode==\"pointcloud\":\n",
    "            '''\n",
    "            points: B x N x 3\n",
    "            output: B x N x N\n",
    "            '''\n",
    "            points=points.to(self.device)\n",
    "            dmatrix=Dmatrix(points,\"euclidean\")\n",
    "            \n",
    "            # score=1-dmatrix**2/self.inlier_thresh**2\n",
    "            score=torch.exp(-dmatrix**2/self.sigma**2)\n",
    "            score[score<self.tau]=0\n",
    "            if k2==1:\n",
    "                return score\n",
    "            else:\n",
    "                return score*torch.einsum(\"bmn,bnk->bmk\",score,score)"
   ]
  },
  {
   "cell_type": "code",
   "execution_count": 19,
   "metadata": {},
   "outputs": [],
   "source": [
    "def extract_fpfh_features(pcd, downsample):\n",
    "    keypts = pcd.voxel_down_sample(downsample)\n",
    "    keypts.estimate_normals(search_param=o3d.geometry.KDTreeSearchParamHybrid(radius=downsample * 2, max_nn=30))\n",
    "    \n",
    "    features = o3d.pipelines.registration.compute_fpfh_feature(keypts, o3d.geometry.KDTreeSearchParamHybrid(\n",
    "        radius=downsample * 5, max_nn=100))\n",
    "    features = np.array(features.data).T\n",
    "    features = features / (np.linalg.norm(features, axis=1, keepdims=True) + 1e-6)\n",
    "\n",
    "    return keypts, features"
   ]
  },
  {
   "cell_type": "code",
   "execution_count": 20,
   "metadata": {},
   "outputs": [],
   "source": [
    "def pcd_sampling(pcd, num_points):\n",
    "    n = min(pcd.shape[0], num_points)\n",
    "    idxs = np.arange(0, n)\n",
    "    np.random.shuffle(idxs)\n",
    "\n",
    "    return pcd[idxs[:n], :].copy()"
   ]
  },
  {
   "cell_type": "code",
   "execution_count": 21,
   "metadata": {},
   "outputs": [],
   "source": [
    "def preprocess_MAC(source, target, voxel_size, model):\n",
    "    t1 = time.perf_counter()\n",
    "    # src_pcd = o3d.geometry.PointCloud()\n",
    "    # src_pcd.points = o3d.utility.Vector3dVector(source)\n",
    "\n",
    "    # tgt_pcd = o3d.geometry.PointCloud()\n",
    "    # tgt_pcd.points = o3d.utility.Vector3dVector(target)\n",
    "\n",
    "    # src_kpts, src_desc = extract_fpfh_features(src_pcd, voxel_size)\n",
    "    # tgt_kpts, tgt_desc = extract_fpfh_features(tgt_pcd, voxel_size)\n",
    "    src_kpts, src_desc = extract_fcgf(source, voxel_size, model)\n",
    "    tgt_kpts, tgt_desc = extract_fcgf(target,voxel_size, model)\n",
    "\n",
    "    distance = np.sqrt(2 - 2 * (src_desc @ tgt_desc.T) + 1e-6)\n",
    "    min_vals = np.min(distance, axis=1)\n",
    "    source_idx = np.argmin(distance, axis=1)\n",
    "    corr_idx = np.concatenate([np.arange(source_idx.shape[0])[:, None], source_idx[:, None]],\n",
    "                            axis=-1)\n",
    "\n",
    "    source_points = torch.from_numpy(np.array(src_kpts)).type(torch.FloatTensor)[corr_idx[:,0]]\n",
    "    target_points = torch.from_numpy(np.array(tgt_kpts)).type(torch.FloatTensor)[corr_idx[:,1]]\n",
    "    correspondence_pcd = np.hstack([source_points, target_points])\n",
    "\n",
    "    preprocess_time.append(time.perf_counter() - t1)\n",
    "    return source_points, target_points, correspondence_pcd, corr_idx, min_vals"
   ]
  },
  {
   "cell_type": "code",
   "execution_count": 22,
   "metadata": {},
   "outputs": [],
   "source": [
    "def graphFilter(points,adjacent_matrix,is_sparse):\n",
    "    '''\n",
    "    points: n x 3\n",
    "    adjacent_matrix: sparse matrix\n",
    "    \n",
    "    return:\n",
    "    score: n x 1\n",
    "    '''\n",
    "    if is_sparse:\n",
    "        xyz=torch.sparse.mm(adjacent_matrix,points)\n",
    "    else:\n",
    "        xyz=torch.mm(adjacent_matrix,points)\n",
    "    return torch.norm(xyz,dim=-1)\n",
    "\n",
    "\n",
    "def datasample(k,replace,weights):\n",
    "    '''\n",
    "    idxs: n\n",
    "    k: int\n",
    "    replace: bool\n",
    "    weights: n\n",
    "    '''\n",
    "    try:\n",
    "        return torch.multinomial(weights,k,replacement=replace)\n",
    "    except RuntimeError:\n",
    "        return None\n",
    "\n",
    "\n",
    "def normalize_scores(x):\n",
    "    x = x - x.min()\n",
    "    x = x / x.max()\n",
    "    return x\n",
    "\n",
    "\n",
    "def fastmac_sampling(correspondence_pcd, num_points, sample_ratio):\n",
    "    t1 = time.perf_counter()\n",
    "\n",
    "    pts = torch.from_numpy(correspondence_pcd).type(torch.FloatTensor)\n",
    "    pts = pts.to('cuda')\n",
    "\n",
    "    grc = GraphConstructor(0.6, 0.999, False, 'cuda', 0.6, 0.)\n",
    "\n",
    "    corr_graph = grc(pts,mode=\"correspondence\")\n",
    "    degree_signal = torch.sum(corr_graph,dim=-1)\n",
    "\n",
    "    corr_laplacian=(torch.diag_embed(degree_signal)-corr_graph).squeeze(0)\n",
    "    corr_scores=graphFilter(degree_signal.reshape(-1,1),corr_laplacian,is_sparse=False)\n",
    "\n",
    "    total_scores = normalize_scores(corr_scores)\n",
    "\n",
    "    k = min(num_points, correspondence_pcd.shape[0])\n",
    "    k *= sample_ratio\n",
    "    idxs = datasample(int(k), False, total_scores)\n",
    "\n",
    "    if idxs is None:\n",
    "        return None\n",
    "\n",
    "    preprocess_time[-1] += time.perf_counter() - t1\n",
    "    return correspondence_pcd[idxs.cpu()]"
   ]
  },
  {
   "cell_type": "code",
   "execution_count": 23,
   "metadata": {},
   "outputs": [],
   "source": [
    "def construct_graph(correspondences):\n",
    "    pts = torch.from_numpy(correspondences).type(torch.FloatTensor)\n",
    "    pts=pts.to('cuda')\n",
    "\n",
    "    t1 = time.perf_counter()\n",
    "    grc = GraphConstructor(0.6, 0.9, False, 'cuda', 0.6, 0.)\n",
    "\n",
    "    corr_graph = grc(pts, 'correspondence')\n",
    "    FCG = corr_graph\n",
    "    FCG = FCG - torch.diag_embed(torch.diag(FCG))\n",
    "    FCG[FCG < 0.999] = 0\n",
    "    SCG = torch.matmul(FCG, FCG) * FCG\n",
    "\n",
    "    graph_construction_time.append(time.perf_counter() - t1)\n",
    "    return SCG.cpu().detach().numpy()"
   ]
  },
  {
   "cell_type": "code",
   "execution_count": 24,
   "metadata": {},
   "outputs": [],
   "source": [
    "def find_cliques(TOP_G):\n",
    "    t1 = time.perf_counter()\n",
    "    graph = Graph.Adjacency((TOP_G > 0).tolist())\n",
    "    graph.es['weight'] = TOP_G[TOP_G.nonzero()]\n",
    "    graph.vs['label'] = range(0, TOP_G.shape[0])\n",
    "    graph.to_undirected()\n",
    "\n",
    "    macs = graph.maximal_cliques(min=3)\n",
    "\n",
    "    max_clique_time.append(time.perf_counter() - t1)\n",
    "    return macs"
   ]
  },
  {
   "cell_type": "code",
   "execution_count": 25,
   "metadata": {},
   "outputs": [],
   "source": [
    "def transform(pts, trans):\n",
    "    if len(pts.shape) == 3:\n",
    "        trans_pts = torch.einsum('bnm,bmk->bnk', trans[:, :3, :3],\n",
    "                                 pts.permute(0, 2, 1)) + trans[:, :3, 3:4]\n",
    "        return trans_pts.permute(0, 2, 1)\n",
    "    else:\n",
    "        trans_pts = torch.einsum('nm,mk->nk', trans[:3, :3],\n",
    "                                 pts.T) + trans[:3, 3:4]\n",
    "        return trans_pts.T\n",
    "\n",
    "def integrate_trans(R, t):\n",
    "    \"\"\"\n",
    "    Integrate SE3 transformations from R and t, support torch.Tensor and np.ndarry.\n",
    "    Input\n",
    "        - R: [3, 3] or [bs, 3, 3], rotation matrix\n",
    "        - t: [3, 1] or [bs, 3, 1], translation matrix\n",
    "    Output\n",
    "        - trans: [4, 4] or [bs, 4, 4], SE3 transformation matrix\n",
    "    \"\"\"\n",
    "    if len(R.shape) == 3:\n",
    "        if isinstance(R, torch.Tensor):\n",
    "            trans = torch.eye(4)[None].repeat(R.shape[0], 1, 1).to(R.device)\n",
    "        else:\n",
    "            trans = np.eye(4)[None]\n",
    "        trans[:, :3, :3] = R\n",
    "        trans[:, :3, 3:4] = t.view([-1, 3, 1])\n",
    "    else:\n",
    "        if isinstance(R, torch.Tensor):\n",
    "            trans = torch.eye(4).to(R.device)\n",
    "        else:\n",
    "            trans = np.eye(4)\n",
    "        trans[:3, :3] = R\n",
    "        trans[:3, 3:4] = t\n",
    "    return trans\n",
    "\n",
    "def rigid_transform_3d(A, B, weights=None, weight_threshold=0):\n",
    "    \"\"\"\n",
    "    Input:\n",
    "        - A:       [bs, num_corr, 3], source point cloud\n",
    "        - B:       [bs, num_corr, 3], target point cloud\n",
    "        - weights: [bs, num_corr]     weight for each correspondence\n",
    "        - weight_threshold: float,    clips points with weight below threshold\n",
    "    Output:\n",
    "        - R, t\n",
    "    \"\"\"\n",
    "    bs = A.shape[0]\n",
    "    if weights is None:\n",
    "        weights = torch.ones_like(A[:, :, 0])\n",
    "    weights[weights < weight_threshold] = 0\n",
    "    # weights = weights / (torch.sum(weights, dim=-1, keepdim=True) + 1e-6)\n",
    "\n",
    "    # find mean of point cloud\n",
    "    centroid_A = torch.sum(A * weights[:, :, None], dim=1, keepdim=True) / (\n",
    "            torch.sum(weights, dim=1, keepdim=True)[:, :, None] + 1e-6)\n",
    "    centroid_B = torch.sum(B * weights[:, :, None], dim=1, keepdim=True) / (\n",
    "            torch.sum(weights, dim=1, keepdim=True)[:, :, None] + 1e-6)\n",
    "\n",
    "    # subtract mean\n",
    "    Am = A - centroid_A\n",
    "    Bm = B - centroid_B\n",
    "\n",
    "    # construct weight covariance matrix\n",
    "    Weight = torch.diag_embed(weights)  # 升维度，然后变为对角阵\n",
    "    H = Am.permute(0, 2, 1) @ Weight @ Bm  # permute : tensor中的每一块做转置\n",
    "\n",
    "    # find rotation\n",
    "    U, S, Vt = torch.svd(H.cpu())\n",
    "    U, S, Vt = U.to(weights.device), S.to(weights.device), Vt.to(weights.device)\n",
    "    delta_UV = torch.det(Vt @ U.permute(0, 2, 1))\n",
    "    eye = torch.eye(3)[None, :, :].repeat(bs, 1, 1).to(A.device)\n",
    "    eye[:, -1, -1] = delta_UV\n",
    "    R = Vt @ eye @ U.permute(0, 2, 1)\n",
    "    t = centroid_B.permute(0, 2, 1) - R @ centroid_A.permute(0, 2, 1)\n",
    "    # warp_A = transform(A, integrate_trans(R,t))\n",
    "    # RMSE = torch.sum( (warp_A - B) ** 2, dim=-1).mean()\n",
    "    return integrate_trans(R, t)\n",
    "\n",
    "def post_refinement(initial_trans, src_kpts, tgt_kpts, iters, inlier_threshold = 0.1, weights=None):\n",
    "    pre_inlier_count = 0\n",
    "    for i in range(iters):\n",
    "        pred_tgt = transform(src_kpts, initial_trans)\n",
    "        L2_dis = torch.norm(pred_tgt - tgt_kpts, dim=-1)\n",
    "        pred_inlier = (L2_dis < inlier_threshold)[0]\n",
    "        inlier_count = torch.sum(pred_inlier)\n",
    "        if inlier_count <= pre_inlier_count:\n",
    "            break\n",
    "        pre_inlier_count = inlier_count\n",
    "        initial_trans = rigid_transform_3d(\n",
    "            A=src_kpts[:, pred_inlier, :],\n",
    "            B=tgt_kpts[:, pred_inlier, :],\n",
    "            weights=1 / (1 + (L2_dis / inlier_threshold) ** 2)[:, pred_inlier]\n",
    "        )\n",
    "    return initial_trans"
   ]
  },
  {
   "cell_type": "code",
   "execution_count": 26,
   "metadata": {},
   "outputs": [],
   "source": [
    "def calculate_transform(source_points, target_points, correspondences, TOP_G, macs, inlier_threshold=0.1):\n",
    "    t1 = time.perf_counter()\n",
    "\n",
    "    clique_weight = np.zeros(len(macs), dtype=float)\n",
    "    for ind in range(min(len(macs), 15_000)):\n",
    "        mac = list(macs[ind])\n",
    "        if len(mac) >= 3:\n",
    "            for i in range(len(mac)):\n",
    "                for j in range(i + 1, len(mac)):\n",
    "                    clique_weight[ind] = clique_weight[ind] + TOP_G[mac[i], mac[j]]\n",
    "\n",
    "    clique_ind_of_node = np.ones(correspondences.shape[0], dtype=int) * -1\n",
    "    max_clique_weight = np.zeros(correspondences.shape[0], dtype=float)\n",
    "    max_size = 3\n",
    "    for ind in range(len(macs)):\n",
    "        mac = list(macs[ind])\n",
    "        weight = clique_weight[ind]\n",
    "        if weight > 0:\n",
    "            for i in range(len(mac)):\n",
    "                if weight > max_clique_weight[mac[i]]:\n",
    "                    max_clique_weight[mac[i]] = weight\n",
    "                    clique_ind_of_node[mac[i]] = ind\n",
    "                    max_size = len(mac) > max_size and len(mac) or max_size\n",
    "\n",
    "    filtered_clique_ind = list(set(clique_ind_of_node))\n",
    "    try:\n",
    "        filtered_clique_ind.remove(-1)\n",
    "    except:\n",
    "        pass\n",
    "\n",
    "    group = []\n",
    "    for _ in range(3, max_size + 1):\n",
    "        group.append([])\n",
    "    for ind in filtered_clique_ind:\n",
    "        mac = list(macs[ind])\n",
    "        group[len(mac) - 3].append(ind)\n",
    "\n",
    "    tensor_list_A = []\n",
    "    tensor_list_B = []\n",
    "    for i in range(len(group)):\n",
    "        if len(group[i]) == 0:\n",
    "            continue\n",
    "        batch_A = source_points[list(macs[group[i][0]])][None]\n",
    "        batch_B = target_points[list(macs[group[i][0]])][None]\n",
    "        if len(group) == 1:\n",
    "            continue\n",
    "        for j in range(1, len(group[i])):\n",
    "            mac = list(macs[group[i][j]])\n",
    "            src_corr = source_points[mac][None]\n",
    "            tgt_corr = target_points[mac][None]\n",
    "            batch_A = torch.cat((batch_A, src_corr), 0)\n",
    "            batch_B = torch.cat((batch_B, tgt_corr), 0)\n",
    "        tensor_list_A.append(batch_A)\n",
    "        tensor_list_B.append(batch_B)\n",
    "\n",
    "    max_score = 0\n",
    "    final_trans = torch.eye(4)\n",
    "    for i in range(len(tensor_list_A)):\n",
    "        trans = rigid_transform_3d(tensor_list_A[i], tensor_list_B[i], None, 0)\n",
    "        pred_tgt = transform(source_points[None], trans)  # [bs,  num_corr, 3]\n",
    "        L2_dis = torch.norm(pred_tgt - target_points[None], dim=-1)  # [bs, num_corr]\n",
    "        MAE_score = torch.div(torch.sub(inlier_threshold, L2_dis), inlier_threshold)\n",
    "        MAE_score = torch.sum(MAE_score * (L2_dis < inlier_threshold), dim=-1)\n",
    "        max_batch_score_ind = MAE_score.argmax(dim=-1)\n",
    "        max_batch_score = MAE_score[max_batch_score_ind]\n",
    "        if max_batch_score > max_score:\n",
    "            max_score = max_batch_score\n",
    "            final_trans = trans[max_batch_score_ind]\n",
    "\n",
    "\n",
    "    final_trans1 = post_refinement(final_trans[None], source_points[None], target_points[None], 20, inlier_threshold)\n",
    "\n",
    "    final_trans = final_trans1[0]\n",
    "    final_trans = final_trans.cpu().numpy()\n",
    "\n",
    "    transform_time.append(time.perf_counter() - t1)\n",
    "    return final_trans"
   ]
  },
  {
   "cell_type": "code",
   "execution_count": 27,
   "metadata": {},
   "outputs": [],
   "source": [
    "def reset_arrays():\n",
    "    global preprocess_time\n",
    "    global graph_construction_time\n",
    "    global max_clique_time\n",
    "    global transform_time\n",
    "    global dists\n",
    "    global registration_results_fastmac\n",
    "    global registration_results_icp\n",
    "\n",
    "    preprocess_time.clear()\n",
    "    graph_construction_time.clear()\n",
    "    max_clique_time.clear()\n",
    "    transform_time.clear()\n",
    "    dists.clear()\n",
    "    registration_results_fastmac.clear()\n",
    "    registration_results_icp.clear()"
   ]
  },
  {
   "cell_type": "markdown",
   "metadata": {},
   "source": [
    "### Comparison"
   ]
  },
  {
   "cell_type": "markdown",
   "metadata": {},
   "source": [
    "# Pipeline"
   ]
  },
  {
   "cell_type": "code",
   "execution_count": 28,
   "metadata": {},
   "outputs": [],
   "source": [
    "# Change to the actual path to dataset\n",
    "dataset_dir = '../data'\n",
    "pr_data_dir = os.path.join(dataset_dir, 'place_recognition_data')\n",
    "graph_data_dir = os.path.join(dataset_dir, 'graph_data')"
   ]
  },
  {
   "cell_type": "code",
   "execution_count": 29,
   "metadata": {},
   "outputs": [],
   "source": [
    "dists = []\n",
    "registration_results_fastmac = []\n",
    "registration_results_icp = []"
   ]
  },
  {
   "cell_type": "code",
   "execution_count": 30,
   "metadata": {},
   "outputs": [],
   "source": [
    "precision_num = 0\n",
    "precision_den = 0\n",
    "\n",
    "recall_num = 0\n",
    "recall_den = 0"
   ]
  },
  {
   "cell_type": "code",
   "execution_count": 31,
   "metadata": {},
   "outputs": [],
   "source": [
    "data_dir = '../fastmac_data/fastmac'\n",
    "counter = 0"
   ]
  },
  {
   "cell_type": "code",
   "execution_count": null,
   "metadata": {},
   "outputs": [],
   "source": [
    "num_points = 10_000\n",
    "sample_ratio = 0.05"
   ]
  },
  {
   "cell_type": "code",
   "execution_count": 33,
   "metadata": {},
   "outputs": [],
   "source": [
    "import gc"
   ]
  },
  {
   "cell_type": "code",
   "execution_count": 34,
   "metadata": {},
   "outputs": [
    {
     "data": {
      "application/vnd.jupyter.widget-view+json": {
       "model_id": "b8f010c6a9334cda8e121689d63492e0",
       "version_major": 2,
       "version_minor": 0
      },
      "text/plain": [
       "  0%|          | 0/1648 [00:00<?, ?it/s]"
      ]
     },
     "metadata": {},
     "output_type": "display_data"
    },
    {
     "name": "stderr",
     "output_type": "stream",
     "text": [
      "/tmp/ipykernel_12166/788527872.py:12: FutureWarning: You are using `torch.load` with `weights_only=False` (the current default value), which uses the default pickle module implicitly. It is possible to construct malicious pickle data which will execute arbitrary code during unpickling (See https://github.com/pytorch/pytorch/blob/main/SECURITY.md#untrusted-models for more details). In a future release, the default value for `weights_only` will be flipped to `True`. This limits the functions that could be executed during unpickling. Arbitrary objects will no longer be allowed to be loaded via this mode unless they are explicitly allowlisted by the user via `torch.serialization.add_safe_globals`. We recommend you start setting `weights_only=True` for any use case where you don't have full control of the loaded file. Please open an issue on GitHub for any issues related to this experimental feature.\n",
      "  checkpoints = torch.load(model_path)\n",
      "/home/mavovk/TestTask/pipeline/cal_fcgf.py:81: UserWarning: To copy construct from a tensor, it is recommended to use sourceTensor.clone().detach() or sourceTensor.clone().detach().requires_grad_(True), rather than torch.tensor(sourceTensor).\n",
      "  coords = torch.tensor(coords, dtype=torch.int32)\n",
      "/tmp/ipykernel_12166/1706728450.py:4: UserWarning: loadtxt: input contained no data: \"../data/place_recognition_data/1710495413820100000/transforms.txt\"\n",
      "  transforms_ = np.loadtxt(os.path.join(test_dir, 'transforms.txt'))\n",
      "/tmp/ipykernel_12166/1706728450.py:4: UserWarning: loadtxt: input contained no data: \"../data/place_recognition_data/1710506453259492000/transforms.txt\"\n",
      "  transforms_ = np.loadtxt(os.path.join(test_dir, 'transforms.txt'))\n",
      "/tmp/ipykernel_12166/1706728450.py:4: UserWarning: loadtxt: input contained no data: \"../data/place_recognition_data/1710504397952582000/transforms.txt\"\n",
      "  transforms_ = np.loadtxt(os.path.join(test_dir, 'transforms.txt'))\n",
      "/tmp/ipykernel_12166/1706728450.py:4: UserWarning: loadtxt: input contained no data: \"../data/place_recognition_data/1710505116224765000/transforms.txt\"\n",
      "  transforms_ = np.loadtxt(os.path.join(test_dir, 'transforms.txt'))\n",
      "/tmp/ipykernel_12166/1706728450.py:4: UserWarning: loadtxt: input contained no data: \"../data/place_recognition_data/1710495473442830000/transforms.txt\"\n",
      "  transforms_ = np.loadtxt(os.path.join(test_dir, 'transforms.txt'))\n",
      "/tmp/ipykernel_12166/1706728450.py:4: UserWarning: loadtxt: input contained no data: \"../data/place_recognition_data/1710495365652851000/transforms.txt\"\n",
      "  transforms_ = np.loadtxt(os.path.join(test_dir, 'transforms.txt'))\n"
     ]
    }
   ],
   "source": [
    "for ii, test_name in (pbar := tqdm(list(enumerate(os.listdir(pr_data_dir))))):\n",
    "    test_dir = os.path.join(pr_data_dir, test_name)\n",
    "    try:\n",
    "        transforms_ = np.loadtxt(os.path.join(test_dir, 'transforms.txt'))\n",
    "    except FileNotFoundError:\n",
    "        continue\n",
    "\n",
    "    if transforms_.size == 0:\n",
    "        continue\n",
    "    if transforms_.ndim == 1:\n",
    "        transforms_ = transforms_[np.newaxis, :]\n",
    "\n",
    "    cand_clouds = {}\n",
    "    cand_poses = {}\n",
    "\n",
    "    # Reference cloud (from robot)\n",
    "    with np.load(os.path.join(test_dir, 'cloud.npz')) as CloudFile:\n",
    "        ref_cloud = CloudFile['arr_0']\n",
    "\n",
    "    ref_cloud = ref_cloud[:, :3]\n",
    "    ref_cloud = ref_cloud[ref_cloud == ref_cloud].reshape((-1, 3))\n",
    "\n",
    "    if transforms_.size == 0:\n",
    "        pass\n",
    "\n",
    "    for idx in transforms_[:, 0]:\n",
    "        cloud = np.load(os.path.join(graph_data_dir, str(int(idx)), 'cloud.npz'))['arr_0']\n",
    "        pose_stamped = np.loadtxt(os.path.join(graph_data_dir, str(int(idx)), 'pose_stamped.txt'))\n",
    "        cand_clouds[int(idx)] = cloud\n",
    "        cand_poses[int(idx)] = pose_stamped[1:]\n",
    "\n",
    "    gt_poses = np.loadtxt(os.path.join(test_dir, 'gt_poses.txt'))\n",
    "\n",
    "    for i in range(transforms_.size // 7):\n",
    "        idx = transforms_[i, 0]\n",
    "        gt_pose = cand_poses[int(idx)]\n",
    "        pose_shift = get_rel_pose(*gt_poses[0], *gt_pose)\n",
    "\n",
    "        # Candidate cloud (from graph of locations)\n",
    "        cloud = cand_clouds[idx][:, :3]\n",
    "        cloud = cloud[cloud == cloud].reshape((-1, 3))\n",
    "\n",
    "        pose_shift = get_rel_pose(*gt_poses[0], *gt_pose)\n",
    "        dist = np.sqrt(pose_shift[0] ** 2 + pose_shift[1] ** 2)\n",
    "        iou = get_iou(*pose_shift, ref_cloud, cloud, visualize=False)\n",
    "\n",
    "        voxel_size = 0.15\n",
    "\n",
    "        # FASTMAC\n",
    "        source_sampled = pcd_sampling(ref_cloud, num_points)\n",
    "        target_sampled = pcd_sampling(cloud, num_points)\n",
    "\n",
    "        _, _, correspondences, _, _ = preprocess_MAC(source_sampled, target_sampled, voxel_size, fcgf_model_path)\n",
    "        fastmac_correspondences = fastmac_sampling(correspondences, num_points, sample_ratio)\n",
    "\n",
    "        if fastmac_correspondences is None:\n",
    "            preprocess_time.pop()\n",
    "            continue\n",
    "\n",
    "        TOP_G = construct_graph(fastmac_correspondences)\n",
    "        macs = find_cliques(TOP_G)\n",
    "\n",
    "        pbar.set_description(f'cliques: {len(macs)}')\n",
    "        source_fastmac = torch.from_numpy(fastmac_correspondences[:, :3]).type(torch.FloatTensor)\n",
    "        target_fastmac = torch.from_numpy(fastmac_correspondences[:, 3:]).type(torch.FloatTensor)\n",
    "\n",
    "        transformation_matrix = calculate_transform(source_fastmac, target_fastmac, fastmac_correspondences, TOP_G, macs)\n",
    "\n",
    "        er = transformation_error(pose_shift, np.linalg.inv(transformation_matrix))\n",
    "        evaluation = o3d.pipelines.registration.evaluate_registration(make_pcd_from_array(ref_cloud), make_pcd_from_array(cloud), 0.4, np.linalg.inv(transformation_matrix))\n",
    "\n",
    "        registration_results_fastmac.append(\n",
    "            RegistrationResult(\n",
    "                method_name='fastmac',\n",
    "                data_cloud=test_name,\n",
    "                candidate_idx=i,\n",
    "                iou=float(iou),\n",
    "                dist=float(dist),\n",
    "                fitness=float(evaluation.fitness),\n",
    "                transform=list([list(el) for el in np.linalg.inv(transformation_matrix).astype(float)]),\n",
    "                error=list(er)\n",
    "                )\n",
    "        )\n",
    "\n",
    "\n",
    "    if ii % 32 == 0:\n",
    "        gc.collect()"
   ]
  },
  {
   "cell_type": "code",
   "execution_count": 35,
   "metadata": {},
   "outputs": [],
   "source": [
    "import json\n",
    "\n",
    "def save_results(filename, arr):\n",
    "    data_to_save = [asdict(el) for el in arr]\n",
    "    with open(f'{filename}.json', 'w') as file:\n",
    "        json.dump(data_to_save, file)\n",
    "\n",
    "\n",
    "def load_results(filename):\n",
    "    with open(f'{filename}.json', 'r') as file:\n",
    "        return [RegistrationResult(**x) for x in json.load(file)]"
   ]
  },
  {
   "cell_type": "code",
   "execution_count": 36,
   "metadata": {},
   "outputs": [],
   "source": [
    "save_results('fastmac_res_30k_voxel_005', registration_results_fastmac)"
   ]
  },
  {
   "cell_type": "code",
   "execution_count": 37,
   "metadata": {},
   "outputs": [
    {
     "data": {
      "image/png": "[encoded data removed]",
      "text/plain": [
       "<Figure size 800x200 with 1 Axes>"
      ]
     },
     "metadata": {},
     "output_type": "display_data"
    }
   ],
   "source": [
    "\n",
    "\n",
    "mean_times = [np.mean(preprocess_time) * 1000, np.mean(graph_construction_time) * 1000, np.mean(max_clique_time) * 1000, np.mean(transform_time) * 1000]\n",
    "labels = ['Пропроцессинг', 'Построение графа', 'Поиск максимальной клики', 'Transform']\n",
    "\n",
    "total_time = sum(mean_times)\n",
    "\n",
    "plt.figure(figsize=(8, 2))\n",
    "bar_height = 0.8\n",
    "\n",
    "plt.barh(['Total Time'], [mean_times[0]], height=bar_height, label=labels[0], color='skyblue')\n",
    "plt.barh(['Total Time'], [mean_times[1]], height=bar_height, left=[mean_times[0]], label=labels[1], color='orange')\n",
    "plt.barh(['Total Time'], [mean_times[2]], height=bar_height, left=[mean_times[0] + mean_times[1]], label=labels[2], color='lightgreen')\n",
    "plt.barh(['Total Time'], [mean_times[3]], height=bar_height, left=[mean_times[0] + mean_times[1] + mean_times[2]], label=labels[3], color='purple')\n",
    "\n",
    "for i, time in enumerate(mean_times):\n",
    "    x_position = sum(mean_times[:i]) + time / 2\n",
    "    plt.text(x_position, 0, f'{time:.1f}', ha='center', va='center', color='black', fontsize=10)\n",
    "\n",
    "plt.xlabel('Time')\n",
    "plt.title('Вклад в общее время работы')\n",
    "plt.legend(bbox_to_anchor=(1.05, 1), loc='upper left')\n",
    "plt.tight_layout()\n",
    "plt.show()"
   ]
  },
  {
   "cell_type": "code",
   "execution_count": 38,
   "metadata": {},
   "outputs": [
    {
     "name": "stdout",
     "output_type": "stream",
     "text": [
      "Mean preprocess time: 595.57\n",
      "Mean graph construction time: 2.64\n",
      "Mean max clique time: 3.63\n",
      "Mean transform time: 32.39\n"
     ]
    }
   ],
   "source": [
    "print(f'Mean preprocess time: {(np.mean(preprocess_time) * 1000):.2f}')\n",
    "print(f'Mean graph construction time: {(np.mean(graph_construction_time) * 1000):.2f}')\n",
    "print(f'Mean max clique time: {(np.mean(max_clique_time) * 1000):.2f}')\n",
    "print(f'Mean transform time: {(np.mean(transform_time) * 1000):.2f}')"
   ]
  },
  {
   "cell_type": "code",
   "execution_count": 39,
   "metadata": {},
   "outputs": [
    {
     "data": {
      "text/plain": [
       "634.2343994412521"
      ]
     },
     "execution_count": 39,
     "metadata": {},
     "output_type": "execute_result"
    }
   ],
   "source": [
    "(np.mean(preprocess_time) + np.mean(graph_construction_time) + np.mean(max_clique_time) + np.mean(transform_time)) * 1000"
   ]
  },
  {
   "cell_type": "code",
   "execution_count": 34,
   "metadata": {},
   "outputs": [
    {
     "name": "stdout",
     "output_type": "stream",
     "text": [
      "Precision: 0.1309462915601023\n",
      "Recall with IoU > 0.5: 0.30673316708229426\n",
      "Recall with IoU > 0.25: 0.05689424364123159\n"
     ]
    }
   ],
   "source": [
    "threshold = 0.7\n",
    "print('Precision:', np.sum([(fitness > threshold) * (max(error) < 0.5) \\\n",
    "                                              for fitness, error in icp_results]) / \\\n",
    "                    np.sum([(fitness > threshold) for fitness, error in icp_results]))\n",
    "print('Recall with IoU > 0.5:', np.sum([(icp_results[i][0] > threshold) * (max(icp_results[i][1]) < 0.5) \\\n",
    "                                              for i in range(len(icp_results)) if ious[i] > 0.5]) / \\\n",
    "                                sum([i > 0.5 for i in ious]))\n",
    "print('Recall with IoU > 0.25:', np.sum([(icp_results[i][0] > threshold) * (max(icp_results[i][1]) < 0.5) \\\n",
    "                                              for i in range(len(icp_results)) if ious[i] > 0.25]) / \\\n",
    "                                sum([i > 0.25 for i in ious]))"
   ]
  },
  {
   "cell_type": "code",
   "execution_count": 42,
   "metadata": {},
   "outputs": [],
   "source": [
    "pos = 0\n",
    "errors = []\n",
    "transforms = []\n",
    "\n",
    "for root, dirs, files in os.walk(data_dir):\n",
    "    if 'trans.txt' in files:\n",
    "        trans_file_path = os.path.join(root, 'trans.txt')\n",
    "        transforms.append(\n",
    "            np.loadtxt(trans_file_path)\n",
    "        )"
   ]
  },
  {
   "cell_type": "code",
   "execution_count": 55,
   "metadata": {},
   "outputs": [
    {
     "data": {
      "application/vnd.jupyter.widget-view+json": {
       "model_id": "532aa44785784de88f12ced53b025ba2",
       "version_major": 2,
       "version_minor": 0
      },
      "text/plain": [
       "  0%|          | 0/1648 [00:00<?, ?it/s]"
      ]
     },
     "metadata": {},
     "output_type": "display_data"
    },
    {
     "name": "stderr",
     "output_type": "stream",
     "text": [
      "/tmp/ipykernel_39733/1622821447.py:4: UserWarning: loadtxt: input contained no data: \"../data/place_recognition_data/1710495413820100000/transforms.txt\"\n",
      "  transforms_ = np.loadtxt(os.path.join(test_dir, 'transforms.txt'))\n",
      "/tmp/ipykernel_39733/1622821447.py:4: UserWarning: loadtxt: input contained no data: \"../data/place_recognition_data/1710506453259492000/transforms.txt\"\n",
      "  transforms_ = np.loadtxt(os.path.join(test_dir, 'transforms.txt'))\n",
      "/tmp/ipykernel_39733/1622821447.py:4: UserWarning: loadtxt: input contained no data: \"../data/place_recognition_data/1710504397952582000/transforms.txt\"\n",
      "  transforms_ = np.loadtxt(os.path.join(test_dir, 'transforms.txt'))\n",
      "/tmp/ipykernel_39733/1622821447.py:4: UserWarning: loadtxt: input contained no data: \"../data/place_recognition_data/1710505116224765000/transforms.txt\"\n",
      "  transforms_ = np.loadtxt(os.path.join(test_dir, 'transforms.txt'))\n",
      "/tmp/ipykernel_39733/1622821447.py:4: UserWarning: loadtxt: input contained no data: \"../data/place_recognition_data/1710495473442830000/transforms.txt\"\n",
      "  transforms_ = np.loadtxt(os.path.join(test_dir, 'transforms.txt'))\n",
      "/tmp/ipykernel_39733/1622821447.py:4: UserWarning: loadtxt: input contained no data: \"../data/place_recognition_data/1710495365652851000/transforms.txt\"\n",
      "  transforms_ = np.loadtxt(os.path.join(test_dir, 'transforms.txt'))\n"
     ]
    }
   ],
   "source": [
    "for ii, test_name in tqdm(list(enumerate(os.listdir(pr_data_dir)))):\n",
    "    test_dir = os.path.join(pr_data_dir, test_name)\n",
    "    try:\n",
    "        transforms_ = np.loadtxt(os.path.join(test_dir, 'transforms.txt'))\n",
    "    except FileNotFoundError:\n",
    "        continue\n",
    "\n",
    "    if transforms_.size == 0:\n",
    "        continue\n",
    "    if transforms_.ndim == 1:\n",
    "        transforms_ = transforms_[np.newaxis, :]\n",
    "\n",
    "    cand_clouds = {}\n",
    "    cand_poses = {}\n",
    "\n",
    "    # Reference cloud (from robot)\n",
    "    with np.load(os.path.join(test_dir, 'cloud.npz')) as CloudFile:\n",
    "        ref_cloud = CloudFile['arr_0']\n",
    "\n",
    "    ref_cloud = ref_cloud[:, :3]\n",
    "    ref_cloud = ref_cloud[ref_cloud == ref_cloud].reshape((-1, 3))\n",
    "\n",
    "    if transforms_.size == 0:\n",
    "        pass\n",
    "\n",
    "    for idx in transforms_[:, 0]:\n",
    "        cloud = np.load(os.path.join(graph_data_dir, str(int(idx)), 'cloud.npz'))['arr_0']\n",
    "        pose_stamped = np.loadtxt(os.path.join(graph_data_dir, str(int(idx)), 'pose_stamped.txt'))\n",
    "        cand_clouds[int(idx)] = cloud\n",
    "        cand_poses[int(idx)] = pose_stamped[1:]\n",
    "\n",
    "    gt_poses = np.loadtxt(os.path.join(test_dir, 'gt_poses.txt'))\n",
    "\n",
    "    for i in range(transforms_.size // 7):\n",
    "        if pos >= len(transforms):\n",
    "            break\n",
    "\n",
    "        if np.linalg.det(transforms[pos]) == 0:\n",
    "            pos += 1\n",
    "            continue\n",
    "\n",
    "        idx = transforms_[i, 0]\n",
    "        gt_pose = cand_poses[int(idx)]\n",
    "        pose_shift = get_rel_pose(*gt_poses[0], *gt_pose)\n",
    "        iou = get_iou(*pose_shift, ref_cloud, cloud, visualize=False)\n",
    "\n",
    "        er = transformation_error(pose_shift, np.linalg.inv(transforms[pos]))\n",
    "        errors.append([iou, er])\n",
    "        pos += 1"
   ]
  },
  {
   "cell_type": "code",
   "execution_count": 56,
   "metadata": {},
   "outputs": [
    {
     "data": {
      "text/plain": [
       "0"
      ]
     },
     "execution_count": 56,
     "metadata": {},
     "output_type": "execute_result"
    }
   ],
   "source": [
    "sum([(max(el[1]) < 0.5) for el in errors])"
   ]
  },
  {
   "cell_type": "code",
   "execution_count": null,
   "metadata": {},
   "outputs": [],
   "source": [
    "threshold = 0.7\n",
    "# print('Precision:', np.sum([(fitness > threshold) * (max(error) < 0.5) \\\n",
    "#                                               for fitness, error in icp_results]) / \\\n",
    "#                     np.sum([(fitness > threshold) for fitness, error in icp_results]))\n",
    "print('Recall with IoU > 0.5:', np.sum([(icp_results[i][0] > threshold) * (max(icp_results[i][1]) < 0.5) \\\n",
    "                                              for i in range(155) if ious[i] > 0.5]) / \\\n",
    "                                sum([i > 0.5 for i in ious]))\n",
    "print('Recall with IoU > 0.25:', np.sum([(icp_results[i][0] > threshold) * (max(icp_results[i][1]) < 0.5) \\\n",
    "                                              for i in range(155) if ious[i] > 0.25]) / \\\n",
    "                                sum([i > 0.25 for i in ious]))"
   ]
  },
  {
   "cell_type": "code",
   "execution_count": 40,
   "metadata": {},
   "outputs": [],
   "source": [
    "def calc_precision_recall_f1(results, threshold):\n",
    "    precision = np.sum([(el.fitness > threshold) * (max(el.error) < 0.5) \\\n",
    "                                                for el in results]) / \\\n",
    "                        np.sum([(el.fitness > threshold) for el in results])\n",
    "    recall = np.sum([(el.fitness > threshold) * (max(el.error) < 0.5) \\\n",
    "                                                for el in results]) / \\\n",
    "                        np.sum([el.iou > 0.5 for el in results])\n",
    "    f1 = 2 * precision * recall / (precision + recall)\n",
    "\n",
    "    return precision, recall, f1\n",
    "\n",
    "def print_precision_recall(results, method, threshold):\n",
    "    precision, recall, f1 = calc_precision_recall_f1(results, threshold)\n",
    "\n",
    "    print(f'Precision {method}: {precision:.3f}')\n",
    "    print(f'Recall {method}: {recall:.3f}', )\n",
    "    print(F'F1 score {method}: {f1:.3f}')"
   ]
  },
  {
   "cell_type": "code",
   "execution_count": 42,
   "metadata": {},
   "outputs": [
    {
     "data": {
      "image/png": "[encoded data removed]",
      "text/plain": [
       "<Figure size 800x600 with 1 Axes>"
      ]
     },
     "metadata": {},
     "output_type": "display_data"
    }
   ],
   "source": [
    "precisions = []\n",
    "recalls = []\n",
    "f1s = []\n",
    "thresholds = [0.1, 0.2, 0.3, 0.4, 0.5, 0.6, 0.7, 0.75, 0.8, 0.85, 0.9, 0.95]\n",
    "\n",
    "for threshold in thresholds:\n",
    "    precision, recall, f1 = calc_precision_recall_f1(registration_results_fastmac, threshold)\n",
    "\n",
    "    precisions.append(precision)\n",
    "    recalls.append(recall)\n",
    "    f1s.append(f1)\n",
    "\n",
    "plt.figure(figsize=(8, 6))\n",
    "plt.plot(thresholds, precisions, marker='o', label='Precision', color='blue')\n",
    "plt.plot(thresholds, recalls, marker='s', label='Recall', color='green')\n",
    "plt.plot(thresholds, f1s, marker='^', label='F1 Score', color='red')\n",
    "\n",
    "plt.xlabel('Threshold')\n",
    "plt.ylabel('Score')\n",
    "plt.title('FastMAC Precision, Recall, and F1 Score vs. Threshold')\n",
    "plt.legend()\n",
    "plt.ylim(0, 1)\n",
    "plt.grid(True)\n",
    "plt.show()"
   ]
  },
  {
   "cell_type": "code",
   "execution_count": 43,
   "metadata": {},
   "outputs": [
    {
     "name": "stdout",
     "output_type": "stream",
     "text": [
      "Precision FastMAC: 0.689\n",
      "Recall FastMAC: 0.242\n",
      "F1 score FastMAC: 0.358\n"
     ]
    }
   ],
   "source": [
    "print_precision_recall(registration_results_fastmac, 'FastMAC', 0.6)"
   ]
  },
  {
   "cell_type": "code",
   "execution_count": null,
   "metadata": {},
   "outputs": [],
   "source": [
    "# def calculate_fitness(src, tgt, transformation):\n",
    "#     fitness_score = 0.0\n",
    "\n",
    "#     src.transform(transformation)\n",
    "\n",
    "#     # std::vector<int> nn_indices (1);\n",
    "#     # std::vector<float> nn_dists (1);\n",
    "#     pcd_tree = o3d.geometry.KDTreeFlann(src)\n",
    "\n",
    "#     nr = 0\n",
    "#     for i in range(len(src)):\n",
    "#         [k, idx, _] = pcd_tree.search_knn_vector_3d(src.points[i], 1)\n",
    "\n",
    "#         dist\n",
    "\n",
    "#     # for (size_t i = 0; i < input_transformed.points.size (); ++i)\n",
    "#     # {\n",
    "#     #     // Find its nearest neighbor in the target\n",
    "#     #     tree_->nearestKSearch (src.points[i], 1, nn_indices, nn_dists);\n",
    "\n",
    "#     #     // Deal with occlusions (incomplete targets)\n",
    "#     #     if (nn_dists[0] <= max_range)\n",
    "#     #     {\n",
    "#     #     // Add to the fitness score\n",
    "#     #     fitness_score += nn_dists[0];\n",
    "#     #     nr++;\n",
    "#     #     } \n",
    "#     # } \n",
    "\n",
    "#     if nr > 0:\n",
    "#         return fitness_score / nr\n",
    "#     else:\n",
    "#         return float('inf')"
   ]
  }
 ],
 "metadata": {
  "kernelspec": {
   "display_name": "fcgf",
   "language": "python",
   "name": "python3"
  },
  "language_info": {
   "codemirror_mode": {
    "name": "ipython",
    "version": 3
   },
   "file_extension": ".py",
   "mimetype": "text/x-python",
   "name": "python",
   "nbconvert_exporter": "python",
   "pygments_lexer": "ipython3",
   "version": "3.8.20"
  }
 },
 "nbformat": 4,
 "nbformat_minor": 2
}
