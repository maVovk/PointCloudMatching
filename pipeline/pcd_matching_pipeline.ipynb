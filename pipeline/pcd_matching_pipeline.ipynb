{
 "cells": [
  {
   "cell_type": "code",
   "execution_count": 1,
   "metadata": {},
   "outputs": [
    {
     "name": "stdout",
     "output_type": "stream",
     "text": [
      "Jupyter environment detected. Enabling Open3D WebVisualizer.\n",
      "[Open3D INFO] WebRTC GUI backend enabled.\n",
      "[Open3D INFO] WebRTCWindowSystem: HTTP handshake server disabled.\n"
     ]
    }
   ],
   "source": [
    "import os\n",
    "import numpy as np\n",
    "import matplotlib as mpt\n",
    "import matplotlib.pyplot as plt\n",
    "import open3d as o3d\n",
    "import open3d.t.pipelines.registration as treg\n",
    "from tqdm.notebook import tqdm\n",
    "%matplotlib inline"
   ]
  },
  {
   "cell_type": "code",
   "execution_count": 2,
   "metadata": {},
   "outputs": [],
   "source": [
    "from scipy.spatial.transform import Rotation\n",
    "import time\n",
    "import copy"
   ]
  },
  {
   "cell_type": "code",
   "execution_count": 3,
   "metadata": {},
   "outputs": [],
   "source": [
    "import torch\n",
    "import MinkowskiEngine as ME"
   ]
  },
  {
   "cell_type": "markdown",
   "metadata": {},
   "source": [
    "## Вспомогательные функции"
   ]
  },
  {
   "cell_type": "code",
   "execution_count": 4,
   "metadata": {},
   "outputs": [],
   "source": [
    "def visualize_pcd(ref_cloud, color=False):\n",
    "    pcd = o3d.geometry.PointCloud()\n",
    "    pcd.points = o3d.utility.Vector3dVector(ref_cloud[:, :3])\n",
    "    if color:\n",
    "        pcd.colors = o3d.utility.Vector3dVector(ref_cloud[:, 3:] / 255)\n",
    "\n",
    "    o3d.visualization.draw_plotly([pcd], width=800, height=600)\n",
    "\n",
    "\n",
    "def draw_registration_result(source, target, transformation, title=None):\n",
    "    source_temp = copy.deepcopy(source)\n",
    "    target_temp = copy.deepcopy(target)\n",
    "    \n",
    "    source_temp.paint_uniform_color([1, 0.706, 0])\n",
    "    target_temp.paint_uniform_color([0, 0.651, 0.929])\n",
    "\n",
    "    source_temp.transform(transformation)\n",
    "\n",
    "    if title is not None:\n",
    "        print(title)\n",
    "\n",
    "    o3d.visualization.draw_plotly([source_temp, target_temp])\n",
    "\n",
    "\n",
    "def compare_grids(grid1, grid2, label1='Current grid', label2='Reference grid'):\n",
    "    fig, axs = plt.subplots(1, 2, figsize=(10, 5))\n",
    "    cmap = mpt.colors.ListedColormap(['white', 'gray', 'black'])\n",
    "\n",
    "    axs[0].imshow(grid1, cmap=cmap)\n",
    "    axs[0].set_title(label1)\n",
    "    axs[0].grid(True, alpha=0.5, linestyle='-')\n",
    "\n",
    "    axs[1].imshow(grid2, cmap=cmap)\n",
    "    axs[1].set_title(label2)\n",
    "    axs[1].grid(True, alpha=0.5, linestyle='-')\n",
    "\n",
    "    fig.tight_layout()\n",
    "    fig.show()\n",
    "\n",
    "\n",
    "def visualize_iou(aligned_grid):\n",
    "    plt.imshow(aligned_grid)\n",
    "    plt.axis(False)\n",
    "    plt.grid(True, alpha=0.5, linestyle='-')\n",
    "\n",
    "    plt.show()\n",
    "\n",
    "\n",
    "def make_pcd_from_array(array):\n",
    "    pcd = o3d.geometry.PointCloud()\n",
    "    pcd.points = o3d.utility.Vector3dVector(array)\n",
    "\n",
    "    return pcd"
   ]
  },
  {
   "cell_type": "markdown",
   "metadata": {},
   "source": [
    "## Регистрация облаков точек"
   ]
  },
  {
   "cell_type": "code",
   "execution_count": 5,
   "metadata": {},
   "outputs": [],
   "source": [
    "%load_ext autoreload\n",
    "%autoreload 2"
   ]
  },
  {
   "cell_type": "code",
   "execution_count": 6,
   "metadata": {},
   "outputs": [],
   "source": [
    "preprocess_time = []\n",
    "registration_time = []\n",
    "transform_time = []"
   ]
  },
  {
   "cell_type": "code",
   "execution_count": 7,
   "metadata": {},
   "outputs": [],
   "source": [
    "def remove_floor_and_ceil(cloud, floor_height=-0.9, ceil_height=1.5):\n",
    "    heights = np.linspace(-4.0, 4.0, 41)\n",
    "    floor_index = None\n",
    "    if floor_height == 'auto':\n",
    "        bins = []\n",
    "        for i, height in enumerate(heights[:-1]):\n",
    "            bins.append(len(cloud[(cloud[:, 2] > height) * (cloud[:, 2] < heights[i + 1])]))\n",
    "        #print('Bins:', bins)\n",
    "        floor_index = np.argmax(bins[:20]) + 1\n",
    "        floor_height = heights[floor_index]\n",
    "        assert floor_index < len(heights) - 5\n",
    "    if ceil_height == 'auto':\n",
    "        if floor_index is None:\n",
    "            floor_index = 0\n",
    "            while floor_index < len(heights) - 6 and heights[floor_index] < floor_height:\n",
    "                floor_index += 1\n",
    "        ceil_index = floor_index + 5 + np.argmax(bins[floor_index + 5:])\n",
    "        ceil_height = heights[ceil_index]\n",
    "    #print('Floor height:', floor_height)\n",
    "    #print('Ceil height:', ceil_height)\n",
    "    return cloud[(cloud[:, 2] > floor_height) * (cloud[:, 2] < ceil_height)]"
   ]
  },
  {
   "cell_type": "code",
   "execution_count": 8,
   "metadata": {},
   "outputs": [],
   "source": [
    "def raycast(grid, n_rays=1000, center_point=None):\n",
    "    grid_raycasted = grid.copy()\n",
    "    if center_point is None:\n",
    "        center_point = (grid.shape[0] // 2, grid.shape[1] // 2)\n",
    "    resolution = 0.1\n",
    "    radius = 8.0 / resolution\n",
    "    for sector in range(n_rays):\n",
    "        angle = sector / n_rays * 2 * np.pi - np.pi\n",
    "        ii = center_point[0] + np.sin(angle) * np.arange(0, radius)\n",
    "        jj = center_point[1] + np.cos(angle) * np.arange(0, radius)\n",
    "        ii = ii.astype(int)\n",
    "        jj = jj.astype(int)\n",
    "        good_ids = ((ii > 0) * (ii < grid.shape[0]) ** (jj > 0) * (jj < grid.shape[1])).astype(bool)\n",
    "        ii = ii[good_ids]\n",
    "        jj = jj[good_ids]\n",
    "        points_on_ray = grid[ii, jj]\n",
    "        if len(points_on_ray.nonzero()[0]) > 0:\n",
    "            last_obst = points_on_ray.nonzero()[0][-1]\n",
    "            grid_raycasted[ii[:last_obst], jj[:last_obst]] = 1\n",
    "        #else:\n",
    "            #grid_raycasted[ii, jj] = 1\n",
    "    return grid_raycasted"
   ]
  },
  {
   "cell_type": "code",
   "execution_count": 9,
   "metadata": {},
   "outputs": [],
   "source": [
    "from scipy.ndimage import affine_transform\n",
    "\n",
    "def transform_grid(grid, x, y, theta):\n",
    "    shift_vector = np.array([x, y])\n",
    "    rotation_matrix = np.array([\n",
    "        [np.cos(theta), np.sin(theta)],\n",
    "        [-np.sin(theta), np.cos(theta)]\n",
    "    ])\n",
    "\n",
    "    center = np.array(grid.shape) / 2\n",
    "    offset = center - rotation_matrix @ center\n",
    "    offset += shift_vector\n",
    "\n",
    "    grid_transformed = np.zeros(grid.size).reshape(grid.shape)\n",
    "    grid_transformed = affine_transform(grid, rotation_matrix, offset=offset, order=0, mode='constant', cval=0)\n",
    "    grid_transformed = grid_transformed.astype(np.uint8)\n",
    "    return grid_transformed\n",
    "\n",
    "def transform_pcd(cloud, x, y, theta):\n",
    "    pcd_transformed = cloud.copy()  # эта функция нигде не вызывается, оставляем так\n",
    "    return pcd_transformed"
   ]
  },
  {
   "cell_type": "code",
   "execution_count": 10,
   "metadata": {},
   "outputs": [],
   "source": [
    "def get_occupancy_grid(points_xyz, resolution=0.1, radius=18, clip=8):\n",
    "    index = np.isnan(points_xyz).any(axis=1)\n",
    "    \n",
    "    points_xyz = np.delete(points_xyz, index, axis=0)\n",
    "    points_xyz = points_xyz[(points_xyz[:, 0] > -clip) * (points_xyz[:, 0] < clip) * \\\n",
    "                            (points_xyz[:, 1] > -clip) * (points_xyz[:, 1] < clip)]\n",
    "    points_xyz_obstacles = remove_floor_and_ceil(points_xyz, floor_height=-0.3, ceil_height=0.5)\n",
    "\n",
    "    #print('Points xyz:', points_xyz.shape, points_xyz[0], points_xyz.min(), points_xyz.max())\n",
    "    grid = np.zeros((int(2 * radius / resolution), int(2 * radius / resolution)), dtype=np.uint8)\n",
    "    points_ij = np.round(points_xyz[:, :2] / resolution).astype(int) + \\\n",
    "                        [int(radius / resolution), int(radius / resolution)]\n",
    "    points_ij = points_ij[(points_ij[:, 0] >= 0) * (points_ij[:, 0] < grid.shape[0]) * \\\n",
    "                          (points_ij[:, 1] >= 0) * (points_ij[:, 1] < grid.shape[1])]\n",
    "    \n",
    "    grid[points_ij[:, 0], points_ij[:, 1]] = 1\n",
    "    grid = raycast(grid)\n",
    "    \n",
    "    points_ij = np.round(points_xyz_obstacles[:, :2] / resolution).astype(int) + \\\n",
    "                [int(radius / resolution), int(radius / resolution)]\n",
    "    points_ij = points_ij[(points_ij[:, 0] >= 0) * (points_ij[:, 0] < grid.shape[0]) * \\\n",
    "                          (points_ij[:, 1] >= 0) * (points_ij[:, 1] < grid.shape[1])]\n",
    "    \n",
    "    grid[points_ij[:, 0], points_ij[:, 1]] = 2\n",
    "    return grid"
   ]
  },
  {
   "cell_type": "code",
   "execution_count": 11,
   "metadata": {},
   "outputs": [],
   "source": [
    "def get_iou_of_grids(rel_x, rel_y, rel_theta, cur_grid, v_grid, visualize, save=False, cnt=0):\n",
    "    rel_x_rotated = -rel_x * np.cos(rel_theta) - rel_y * np.sin(rel_theta)\n",
    "    rel_y_rotated = rel_x * np.sin(rel_theta) - rel_y * np.cos(rel_theta)\n",
    "    rel_x, rel_y = rel_x_rotated, rel_y_rotated\n",
    "    \n",
    "    cur_grid_transformed = transform_grid(cur_grid, rel_x, rel_y, rel_theta)\n",
    "    cur_grid_transformed[cur_grid_transformed > 0] = 1\n",
    "    \n",
    "    v_grid_copy = v_grid.copy()\n",
    "    v_grid_copy[v_grid_copy > 0] = 1\n",
    "    \n",
    "    intersection = np.sum(v_grid_copy * cur_grid_transformed)\n",
    "    union = np.sum(v_grid_copy | cur_grid_transformed)\n",
    "\n",
    "    grid_aligned = np.zeros((v_grid.shape[0], v_grid.shape[1], 3))\n",
    "    grid_aligned[:, :, 0] = cur_grid_transformed\n",
    "    grid_aligned[:, :, 1] = v_grid\n",
    "    grid_aligned = (grid_aligned * 255).astype(np.uint8)\n",
    "    \n",
    "    if visualize:\n",
    "        visualize_iou(grid_aligned)\n",
    "\n",
    "    return intersection / union"
   ]
  },
  {
   "cell_type": "code",
   "execution_count": 12,
   "metadata": {},
   "outputs": [],
   "source": [
    "def get_iou(rel_x, rel_y, rel_theta, cur_cloud, v_cloud, visualize=False):\n",
    "    cur_grid = get_occupancy_grid(cur_cloud)\n",
    "    v_grid = get_occupancy_grid(v_cloud)\n",
    "\n",
    "    try:\n",
    "        return get_iou_of_grids(rel_x, rel_y, rel_theta, cur_grid, v_grid, visualize)\n",
    "    except ZeroDivisionError:\n",
    "        return 0\n",
    "    except Exception as e:\n",
    "        print(e)\n",
    "        return 0"
   ]
  },
  {
   "cell_type": "code",
   "execution_count": 13,
   "metadata": {},
   "outputs": [],
   "source": [
    "def preprocess_pcd(cloud, voxel_size):\n",
    "    pcd = o3d.geometry.PointCloud()\n",
    "    pcd.points = o3d.utility.Vector3dVector(cloud)\n",
    "\n",
    "    pcd_down = pcd.voxel_down_sample(voxel_size)\n",
    "\n",
    "    normal_radius = 2 * voxel_size\n",
    "    pcd_down.estimate_normals(\n",
    "        o3d.geometry.KDTreeSearchParamHybrid(radius=normal_radius, max_nn=30)\n",
    "    )\n",
    "\n",
    "    feature_radius = 5 * voxel_size\n",
    "    pcd_fpfh = o3d.pipelines.registration.compute_fpfh_feature(\n",
    "        pcd_down,\n",
    "        o3d.geometry.KDTreeSearchParamHybrid(radius=feature_radius, max_nn=100)\n",
    "    )\n",
    "\n",
    "    return pcd_down, pcd_fpfh"
   ]
  },
  {
   "cell_type": "code",
   "execution_count": 14,
   "metadata": {},
   "outputs": [],
   "source": [
    "def extract_fcgf(model,\n",
    "                xyz,\n",
    "                rgb=None,\n",
    "                normal=None,\n",
    "                voxel_size=0.05,\n",
    "                device=None,\n",
    "                skip_check=False,\n",
    "                is_eval=True):\n",
    "    if is_eval:\n",
    "        model.eval()\n",
    "\n",
    "    if not skip_check:\n",
    "        assert xyz.shape[1] == 3\n",
    "\n",
    "        N = xyz.shape[0]\n",
    "        if rgb is not None:\n",
    "            assert N == len(rgb)\n",
    "            assert rgb.shape[1] == 3\n",
    "\n",
    "            if np.any(rgb > 1):\n",
    "                raise ValueError('Invalid color. Color must range from [0, 1]')\n",
    "\n",
    "        if normal is not None:\n",
    "            assert N == len(normal)\n",
    "            assert normal.shape[1] == 3\n",
    "\n",
    "            if np.any(normal > 1):\n",
    "                raise ValueError('Invalid normal. Normal must range from [-1, 1]')\n",
    "\n",
    "    if device is None:\n",
    "        device = torch.device(\"cuda:0\" if torch.cuda.is_available() else \"cpu\")\n",
    "\n",
    "    feats = []\n",
    "    if rgb is not None:\n",
    "        # [0, 1]\n",
    "        feats.append(rgb - 0.5)\n",
    "\n",
    "    if normal is not None:\n",
    "        # [-1, 1]\n",
    "        feats.append(normal / 2)\n",
    "\n",
    "    if rgb is None and normal is None:\n",
    "        feats.append(np.ones((len(xyz), 1)))\n",
    "\n",
    "    feats = np.hstack(feats)\n",
    "\n",
    "    # Voxelize xyz and feats\n",
    "    coords = np.floor(xyz / voxel_size)\n",
    "    coords, inds = ME.utils.sparse_quantize(coords, return_index=True)\n",
    "    # Convert to batched coords compatible with ME\n",
    "    coords = ME.utils.batched_coordinates([coords])\n",
    "    return_coords = xyz[inds]\n",
    "\n",
    "    feats = feats[inds]\n",
    "\n",
    "    feats = torch.tensor(feats, dtype=torch.float32)\n",
    "    coords = torch.tensor(coords, dtype=torch.int32)\n",
    "\n",
    "    stensor = ME.SparseTensor(feats, coordinates=coords, device=device)\n",
    "\n",
    "    pcd_down = make_pcd_from_array(return_coords)\n",
    "    calculated_feats = model(stensor).F\n",
    "\n",
    "    features = o3d.pipelines.registration.Feature()\n",
    "    features.resize(calculated_feats.shape[1], calculated_feats.shape[0])\n",
    "    features.data = calculated_feats.detach().cpu().numpy().transpose()\n",
    "\n",
    "    return pcd_down, features"
   ]
  },
  {
   "cell_type": "code",
   "execution_count": 15,
   "metadata": {},
   "outputs": [],
   "source": [
    "def execute_ransac_registration(source_down, target_down, source_feats, target_feats, voxel_size):\n",
    "    distance_threshold = voxel_size * 1.5\n",
    "\n",
    "    result = o3d.pipelines.registration.registration_ransac_based_on_feature_matching(\n",
    "        source_down, target_down, source_feats, target_feats, True, distance_threshold,\n",
    "        o3d.pipelines.registration.TransformationEstimationPointToPoint(False), 3,\n",
    "        [\n",
    "            o3d.pipelines.registration.CorrespondenceCheckerBasedOnDistance(distance_threshold)\n",
    "        ],\n",
    "        o3d.pipelines.registration.RANSACConvergenceCriteria(100000, 0.999)\n",
    "    )\n",
    "\n",
    "    return result\n",
    "\n",
    "def execute_ransac_correspondences(source_down, target_down, source_feats, target_feats, voxel_size):\n",
    "    distance_threshold = voxel_size * 1.5\n",
    "\n",
    "    # source_feats_import = o3d.pipelines.registration.Feature()\n",
    "    # source_feats_import.data = np.asarray(source_feats.data).copy()\n",
    "\n",
    "    # target_feats_import = o3d.pipelines.registration.Feature()\n",
    "    # target_feats_import.data = np.asarray(target_feats.data).copy()\n",
    "\n",
    "    corres = o3d.pipelines.registration.correspondences_from_features(\n",
    "        source_feats, target_feats, True\n",
    "    )\n",
    "    result = o3d.pipelines.registration.registration_ransac_based_on_correspondence(\n",
    "        source_down, target_down, corres, max_correspondence_distance=distance_threshold,\n",
    "        estimation_method=o3d.pipelines.registration.TransformationEstimationPointToPoint(False),\n",
    "        ransac_n=3, checkers=[o3d.pipelines.registration.CorrespondenceCheckerBasedOnEdgeLength(0.9),\n",
    "                o3d.pipelines.registration.CorrespondenceCheckerBasedOnDistance(distance_threshold)],\n",
    "        criteria=o3d.pipelines.registration.RANSACConvergenceCriteria(100000, 0.999)\n",
    "    )\n",
    "\n",
    "    return result\n",
    "\n",
    "def execute_fast_registration(source_down, target_down, source_feats, target_feats, voxel_size):\n",
    "    distance_threshold = voxel_size * 1.5\n",
    "\n",
    "    result = o3d.pipelines.registration.registration_fgr_based_on_feature_matching(\n",
    "        source_down, target_down, source_feats, target_feats,\n",
    "        o3d.pipelines.registration.FastGlobalRegistrationOption(\n",
    "            maximum_correspondence_distance=distance_threshold\n",
    "    ))\n",
    "\n",
    "    return result"
   ]
  },
  {
   "cell_type": "code",
   "execution_count": 16,
   "metadata": {},
   "outputs": [],
   "source": [
    "def get_global_registration(source, target, voxel_size, algorithm='fast'):\n",
    "    global preprocess_time\n",
    "    global registration_time\n",
    "\n",
    "    start = time.time()\n",
    "\n",
    "    source_down, source_feats = preprocess_pcd(source, voxel_size)\n",
    "    target_down, target_feats = preprocess_pcd(target, voxel_size)\n",
    "\n",
    "    preprocess_time.append(time.time() - start)\n",
    "\n",
    "    registration = None\n",
    "    start = time.time()\n",
    "\n",
    "    if algorithm == 'ransac':\n",
    "        registration = execute_ransac_registration(source_down, target_down, source_feats, target_feats, voxel_size)\n",
    "    elif algorithm == 'correspondences':\n",
    "        registration = execute_ransac_correspondences(source_down, target_down, source_feats, target_feats, voxel_size)\n",
    "    elif algorithm == 'fast':\n",
    "        registration = execute_fast_registration(source_down, target_down, source_feats, target_feats, voxel_size)\n",
    "    else:\n",
    "        raise ValueError('Unknown global registration algorithm')\n",
    "\n",
    "    registration_time.append(time.time() - start)\n",
    "    return registration"
   ]
  },
  {
   "cell_type": "code",
   "execution_count": 17,
   "metadata": {},
   "outputs": [],
   "source": [
    "def get_global_fcgf_registration(source, target, voxel_size, model, device):\n",
    "    global preprocess_time\n",
    "    global registration_time\n",
    "\n",
    "    start = time.time()\n",
    "\n",
    "    source_down, source_fcgf = extract_fcgf(model, source, rgb=None, normal=None, voxel_size=voxel_size, device=device, skip_check=True)\n",
    "    target_down, target_fcgf = extract_fcgf(model, target, rgb=None, normal=None, voxel_size=voxel_size, device=device, skip_check=True)\n",
    "\n",
    "    preprocess_time.append(time.time() - start)\n",
    "\n",
    "    registration = None\n",
    "    start = time.time()\n",
    "\n",
    "    registration = execute_ransac_registration(source_down, target_down, source_fcgf, target_fcgf, voxel_size)\n",
    "\n",
    "    registration_time.append(time.time() - start)\n",
    "    return registration"
   ]
  },
  {
   "cell_type": "code",
   "execution_count": 18,
   "metadata": {},
   "outputs": [],
   "source": [
    "def transform_icp(ref_cloud, cand_cloud, initial_transform):\n",
    "    global transform_time\n",
    "    start = time.time()\n",
    "\n",
    "    source_pcd = make_pcd_from_array(ref_cloud)\n",
    "    source_pcd.estimate_normals(\n",
    "        o3d.geometry.KDTreeSearchParamHybrid(radius=0.4, max_nn=30)\n",
    "    )\n",
    "\n",
    "    target_pcd = make_pcd_from_array(cand_cloud)\n",
    "    target_pcd.estimate_normals(\n",
    "        o3d.geometry.KDTreeSearchParamHybrid(radius=0.4, max_nn=30)\n",
    "    )\n",
    "\n",
    "    source = o3d.t.geometry.PointCloud.from_legacy(source_pcd)\n",
    "    target = o3d.t.geometry.PointCloud.from_legacy(target_pcd)\n",
    "\n",
    "    voxel_sizes = o3d.utility.DoubleVector([0.35, 0.1, 0.05])\n",
    "    criteria_list = [\n",
    "        treg.ICPConvergenceCriteria(relative_fitness=0.0001,\n",
    "                                    relative_rmse=0.0001,\n",
    "                                    max_iteration=25),\n",
    "        treg.ICPConvergenceCriteria(0.00001, 0.00001, 20),\n",
    "        treg.ICPConvergenceCriteria(0.000001, 0.000001, 10)\n",
    "    ]\n",
    "    \n",
    "    max_correspondence_distances = o3d.utility.DoubleVector([1, 0.2, 0.1])\n",
    "    init_transform = o3d.core.Tensor(initial_transform, o3d.core.Dtype.Float32)\n",
    "    estimation = treg.TransformationEstimationPointToPlane()\n",
    "\n",
    "    icp_registration = treg.multi_scale_icp(source, target, voxel_sizes, criteria_list, max_correspondence_distances, init_transform, estimation)\n",
    "\n",
    "    transform_icp = icp_registration.transformation\n",
    "    score_icp = icp_registration.fitness\n",
    "\n",
    "    transform_time.append(time.time() - start)\n",
    "    return transform_icp.numpy(), score_icp"
   ]
  },
  {
   "cell_type": "code",
   "execution_count": 19,
   "metadata": {},
   "outputs": [],
   "source": [
    "def normalize(angle):\n",
    "    while angle > np.pi:\n",
    "        angle -= 2 * np.pi\n",
    "    while angle < -np.pi:\n",
    "        angle += 2 * np.pi\n",
    "    return angle\n",
    "\n",
    "def transformation_error(gt_pose_shift, tf_matrix_estimated):\n",
    "    tf_rotation = Rotation.from_matrix(tf_matrix_estimated[:3, :3]).as_rotvec()\n",
    "    gt_x, gt_y, gt_angle = gt_pose_shift\n",
    "    #gt_angle = -gt_angle\n",
    "    estimated_angle = tf_rotation[2]\n",
    "    estimated_x = tf_matrix_estimated[0, 3]\n",
    "    estimated_y = tf_matrix_estimated[1, 3]\n",
    "    return (np.abs(estimated_x - gt_x), np.abs(estimated_y - gt_y), np.abs(normalize(estimated_angle - gt_angle)))"
   ]
  },
  {
   "cell_type": "code",
   "execution_count": 20,
   "metadata": {},
   "outputs": [],
   "source": [
    "def get_rel_pose(x1, y1, theta1, x2, y2, theta2):\n",
    "    return [x1 - x2, y1 - y2, theta1 - theta2]"
   ]
  },
  {
   "cell_type": "code",
   "execution_count": 21,
   "metadata": {},
   "outputs": [],
   "source": [
    "test_results = []\n",
    "ious = []\n",
    "dists = []"
   ]
  },
  {
   "cell_type": "code",
   "execution_count": 22,
   "metadata": {},
   "outputs": [],
   "source": [
    "save_results = False\n",
    "import_results = True"
   ]
  },
  {
   "cell_type": "code",
   "execution_count": 21,
   "metadata": {},
   "outputs": [],
   "source": [
    "# Change to the actual path to dataset\n",
    "dataset_dir = '../data'\n",
    "pr_data_dir = os.path.join(dataset_dir, 'place_recognition_data')\n",
    "graph_data_dir = os.path.join(dataset_dir, 'graph_data')"
   ]
  },
  {
   "cell_type": "code",
   "execution_count": 24,
   "metadata": {},
   "outputs": [],
   "source": [
    "fcgf_model_path = '../../FCGF/weights/kitti.pth'"
   ]
  },
  {
   "cell_type": "markdown",
   "metadata": {},
   "source": [
    "Разбил на 2 ячейки, чтобы распараллелить разработку ICP и подсчёт IoU"
   ]
  },
  {
   "cell_type": "code",
   "execution_count": null,
   "metadata": {
    "collapsed": true
   },
   "outputs": [],
   "source": [
    "for ii, test_name in tqdm(list(enumerate(os.listdir(pr_data_dir)))):\n",
    "    test_dir = os.path.join(pr_data_dir, test_name)\n",
    "    try:\n",
    "        transforms_ = np.loadtxt(os.path.join(test_dir, 'transforms.txt'))\n",
    "    except FileNotFoundError:\n",
    "        continue\n",
    "\n",
    "    if transforms_.size == 0:\n",
    "        continue\n",
    "    if transforms_.ndim == 1:\n",
    "        transforms_ = transforms_[np.newaxis, :]\n",
    "    \n",
    "    cand_clouds = {}\n",
    "    cand_poses = {}\n",
    "\n",
    "    # Reference cloud (from robot)\n",
    "    with np.load(os.path.join(test_dir, 'cloud.npz')) as CloudFile:\n",
    "        ref_cloud = CloudFile['arr_0']\n",
    "\n",
    "    ref_cloud = ref_cloud[:, :3]\n",
    "    ref_cloud = ref_cloud[ref_cloud == ref_cloud].reshape((-1, 3))\n",
    "    \n",
    "    if transforms_.size == 0:\n",
    "        continue\n",
    "    \n",
    "    for idx in transforms_[:, 0]:\n",
    "        cloud = np.load(os.path.join(graph_data_dir, str(int(idx)), 'cloud.npz'))['arr_0']\n",
    "        pose_stamped = np.loadtxt(os.path.join(graph_data_dir, str(int(idx)), 'pose_stamped.txt'))\n",
    "        cand_clouds[int(idx)] = cloud\n",
    "        cand_poses[int(idx)] = pose_stamped[1:]\n",
    "    \n",
    "    gt_poses = np.loadtxt(os.path.join(test_dir, 'gt_poses.txt'))\n",
    "    \n",
    "    for i in range(transforms_.size // 7):\n",
    "        idx = transforms_[i, 0]\n",
    "        gt_pose = cand_poses[int(idx)]\n",
    "\n",
    "        # Candidate cloud (from graph of locations)\n",
    "        cloud = cand_clouds[idx][:, :3]\n",
    "        cloud = cloud[cloud == cloud].reshape((-1, 3))\n",
    "\n",
    "        pose_shift = get_rel_pose(*gt_poses[0], *gt_pose)\n",
    "        dist = np.sqrt(pose_shift[0] ** 2 + pose_shift[1] ** 2)\n",
    "        iou = get_iou(*pose_shift, ref_cloud, cloud, visualize=False)\n",
    "\n",
    "        ious.append(iou)\n",
    "        dists.append(dist)"
   ]
  },
  {
   "cell_type": "code",
   "execution_count": 25,
   "metadata": {},
   "outputs": [],
   "source": [
    "if save_results and not import_results:\n",
    "    ious_numpy = np.array(ious)\n",
    "    dists_numpy = np.array(dists)\n",
    "\n",
    "    np.save('../results/ious.npy', ious_numpy)\n",
    "    np.save('../results/dists.npy', dists_numpy)\n",
    "\n",
    "if import_results:\n",
    "    ious = list(np.load('../results/ious.npy'))\n",
    "    dists = list(np.load('../results/dists.npy'))"
   ]
  },
  {
   "cell_type": "code",
   "execution_count": 24,
   "metadata": {},
   "outputs": [],
   "source": [
    "icp_results = []\n",
    "icp_times = []"
   ]
  },
  {
   "cell_type": "code",
   "execution_count": 27,
   "metadata": {},
   "outputs": [],
   "source": [
    "save_results = True\n",
    "import_results = False"
   ]
  },
  {
   "cell_type": "markdown",
   "metadata": {},
   "source": [
    "# Test"
   ]
  },
  {
   "cell_type": "code",
   "execution_count": 24,
   "metadata": {},
   "outputs": [],
   "source": [
    "test_name = os.listdir(pr_data_dir)[0]\n",
    "test_dir = os.path.join(pr_data_dir, test_name)"
   ]
  },
  {
   "cell_type": "code",
   "execution_count": 25,
   "metadata": {},
   "outputs": [],
   "source": [
    "with np.load(os.path.join(test_dir, 'cloud.npz')) as CloudFile:\n",
    "        ref_cloud = CloudFile['arr_0']\n",
    "\n",
    "ref_cloud = ref_cloud[:, :3]\n",
    "ref_cloud = ref_cloud[ref_cloud == ref_cloud].reshape((-1, 3))"
   ]
  },
  {
   "cell_type": "code",
   "execution_count": 42,
   "metadata": {},
   "outputs": [],
   "source": [
    "try:\n",
    "    transforms_ = np.loadtxt(os.path.join(test_dir, 'transforms.txt'))\n",
    "except FileNotFoundError:\n",
    "    pass\n",
    "\n",
    "if transforms_.size == 0:\n",
    "    pass\n",
    "if transforms_.ndim == 1:\n",
    "    transforms_ = transforms_[np.newaxis, :]\n",
    "\n",
    "cand_clouds = {}\n",
    "cand_poses = {}\n",
    "\n",
    "if transforms_.size == 0:\n",
    "    pass\n",
    "\n",
    "for idx in transforms_[:, 0]:\n",
    "    cloud = np.load(os.path.join(graph_data_dir, str(int(idx)), 'cloud.npz'))['arr_0']\n",
    "    pose_stamped = np.loadtxt(os.path.join(graph_data_dir, str(int(idx)), 'pose_stamped.txt'))\n",
    "    cand_clouds[int(idx)] = cloud\n",
    "    cand_poses[int(idx)] = pose_stamped[1:]\n",
    "\n",
    "gt_poses = np.loadtxt(os.path.join(test_dir, 'gt_poses.txt'))\n",
    "\n",
    "# for i in range(transforms_.size // 7):\n",
    "idx = transforms_[0, 0]\n",
    "gt_pose = cand_poses[int(idx)]\n",
    "pose_shift = get_rel_pose(*gt_poses[0], *gt_pose)\n",
    "\n",
    "# Candidate cloud (from graph of locations)\n",
    "cloud = cand_clouds[idx][:, :3]\n",
    "cloud = cloud[cloud == cloud].reshape((-1, 3))\n",
    "\n",
    "voxel_size = 0.2"
   ]
  },
  {
   "cell_type": "code",
   "execution_count": 86,
   "metadata": {},
   "outputs": [
    {
     "data": {
      "text/plain": [
       "(39762, 3)"
      ]
     },
     "execution_count": 86,
     "metadata": {},
     "output_type": "execute_result"
    }
   ],
   "source": [
    "cloud.shape"
   ]
  },
  {
   "cell_type": "code",
   "execution_count": 54,
   "metadata": {},
   "outputs": [
    {
     "ename": "AttributeError",
     "evalue": "'numpy.ndarray' object has no attribute 'points'",
     "output_type": "error",
     "traceback": [
      "\u001b[0;31m---------------------------------------------------------------------------\u001b[0m",
      "\u001b[0;31mAttributeError\u001b[0m                            Traceback (most recent call last)",
      "Cell \u001b[0;32mIn[54], line 1\u001b[0m\n\u001b[0;32m----> 1\u001b[0m visualize_pcd(\u001b[43mcloud\u001b[49m\u001b[38;5;241;43m.\u001b[39;49m\u001b[43mpoints\u001b[49m)\n",
      "\u001b[0;31mAttributeError\u001b[0m: 'numpy.ndarray' object has no attribute 'points'"
     ]
    }
   ],
   "source": [
    "visualize_pcd(cloud.points)"
   ]
  },
  {
   "cell_type": "code",
   "execution_count": 44,
   "metadata": {},
   "outputs": [
    {
     "data": {
      "text/plain": [
       "(6, 3)"
      ]
     },
     "execution_count": 44,
     "metadata": {},
     "output_type": "execute_result"
    }
   ],
   "source": [
    "gt_poses.shape"
   ]
  },
  {
   "cell_type": "code",
   "execution_count": 26,
   "metadata": {},
   "outputs": [
    {
     "data": {
      "text/plain": [
       "array([[ 0.9335295 , -0.9261097 ,  0.5155997 ],\n",
       "       [ 0.9277651 , -0.9235188 ,  0.47509837],\n",
       "       [ 0.9272502 , -0.9228381 ,  0.4249512 ],\n",
       "       ...,\n",
       "       [-2.7679205 , -3.0490003 , -1.0052172 ],\n",
       "       [-2.7715101 , -3.0635002 , -1.0051899 ],\n",
       "       [-4.0535455 , -4.3310003 ,  0.23685157]], dtype=float32)"
      ]
     },
     "execution_count": 26,
     "metadata": {},
     "output_type": "execute_result"
    }
   ],
   "source": [
    "ref_cloud"
   ]
  },
  {
   "cell_type": "code",
   "execution_count": 27,
   "metadata": {},
   "outputs": [],
   "source": [
    "pcd_down, feats = preprocess_pcd(ref_cloud, 0.2)"
   ]
  },
  {
   "cell_type": "code",
   "execution_count": 38,
   "metadata": {},
   "outputs": [
    {
     "data": {
      "text/plain": [
       "PointCloud with 5715 points."
      ]
     },
     "execution_count": 38,
     "metadata": {},
     "output_type": "execute_result"
    }
   ],
   "source": [
    "pcd_down"
   ]
  },
  {
   "cell_type": "code",
   "execution_count": 41,
   "metadata": {},
   "outputs": [
    {
     "data": {
      "text/plain": [
       "array([[-4.05354548, -4.33100033,  0.23685157],\n",
       "       [-2.72713256, -3.00925004, -1.00619733],\n",
       "       [-2.62669567, -2.90397227, -1.00786444],\n",
       "       ...,\n",
       "       [ 6.05989803, -0.5224507 ,  1.10082208],\n",
       "       [-6.00474989,  1.43551061,  2.90151793],\n",
       "       [-6.04675031,  1.77149969, -0.25031915]])"
      ]
     },
     "execution_count": 41,
     "metadata": {},
     "output_type": "execute_result"
    }
   ],
   "source": [
    "np.asarray(pcd_down.points)"
   ]
  },
  {
   "cell_type": "code",
   "execution_count": 39,
   "metadata": {},
   "outputs": [
    {
     "data": {
      "text/plain": [
       "Feature class with dimension = 33 and num = 5715\n",
       "Access its data via data member."
      ]
     },
     "execution_count": 39,
     "metadata": {},
     "output_type": "execute_result"
    }
   ],
   "source": [
    "feats"
   ]
  },
  {
   "cell_type": "markdown",
   "metadata": {},
   "source": [
    "# Aboba"
   ]
  },
  {
   "cell_type": "code",
   "execution_count": 28,
   "metadata": {},
   "outputs": [],
   "source": [
    "import sys\n",
    "sys.path.insert(1, '/home/mavovk/TestTask')"
   ]
  },
  {
   "cell_type": "code",
   "execution_count": 29,
   "metadata": {},
   "outputs": [],
   "source": [
    "from model import load_model\n",
    "\n",
    "def get_model(model_path, device):\n",
    "    checkpoint =  torch.load(model_path, weights_only=False)\n",
    "    config = checkpoint['config']\n",
    "\n",
    "    num_feats = 1\n",
    "    Model = load_model(config.model)\n",
    "\n",
    "    model = Model(num_feats, config.model_n_out, bn_momentum=0.05, normalize_feature=config.normalize_feature,\n",
    "                conv1_kernel_size=config.conv1_kernel_size, D=3)\n",
    "    model.load_state_dict(checkpoint['state_dict'])\n",
    "    model.eval()\n",
    "\n",
    "    model = model.to(device)\n",
    "\n",
    "    return model"
   ]
  },
  {
   "cell_type": "code",
   "execution_count": 30,
   "metadata": {},
   "outputs": [],
   "source": [
    "device = torch.device('cuda')\n",
    "model = get_model(fcgf_model_path, device)"
   ]
  },
  {
   "cell_type": "code",
   "execution_count": 25,
   "metadata": {},
   "outputs": [
    {
     "data": {
      "application/vnd.jupyter.widget-view+json": {
       "model_id": "4fa315aabc20460f85e1a09f51b7c62b",
       "version_major": 2,
       "version_minor": 0
      },
      "text/plain": [
       "  0%|          | 0/5 [00:00<?, ?it/s]"
      ]
     },
     "metadata": {},
     "output_type": "display_data"
    },
    {
     "name": "stdout",
     "output_type": "stream",
     "text": [
      "(2.5113863087913937, 3.2161009192490875, 0.5777983935740099)\n",
      "(2.8754029400942054, 5.440856583531465, 0.5763446096922518)\n",
      "(0.6400332366832746, 0.5284001614845375, 1.396327646783887)\n",
      "(4.584414574112688, 6.2363153264581195, 0.6764696026469695)\n",
      "(5.402292452622099, 7.204843739714805, 0.6788116555410119)\n",
      "(10.446388152067378, 10.298853686454256, 2.4382729412359616)\n",
      "(5.7476288100980835, 1.992901874738454, 1.8876090609334744)\n",
      "(11.750501056085872, 8.32011400447383, 1.157287427734569)\n",
      "(6.662106669216126, 12.638968894842712, 2.1052775881977306)\n",
      "\u001b[1;33m[Open3D WARNING] Too few correspondences (277) after mutual filter, fall back to original correspondences.\u001b[0;m\n",
      "(5.935099579423405, 4.653465158881583, 1.778331994346252)\n",
      "(1.999467360615696, 11.207112016746347, 2.7917710882115006)\n",
      "(3.108309836777509, 3.0712057140591202, 2.4434777839006667)\n",
      "(1.321951129454285, 0.019535964035676194, 1.7453477187917716)\n",
      "(0.777093335240967, 4.974689057375169, 2.6181866594844014)\n",
      "(2.3709865018528906, 12.289292209725817, 2.648125393505869)\n",
      "(11.59517933736489, 0.3853557439698647, 2.354541331616345)\n",
      "(4.1627179842625015, 5.99390194607121, 1.5409659033448355)\n",
      "(15.437044158116581, 5.375700123974504, 1.3308353033611535)\n",
      "(11.469528913899914, 4.803856126439297, 0.9628591327537905)\n",
      "(5.348791504322668, 0.17801950627491792, 0.5384781670074883)\n",
      "(1.9642282423156376, 3.2689301865595186, 1.6825119634661798)\n",
      "\u001b[1;33m[Open3D WARNING] Too few correspondences (202) after mutual filter, fall back to original correspondences.\u001b[0;m\n",
      "(7.147819952069763, 6.596762494765042, 0.9074827059513926)\n",
      "(6.487755763889667, 0.09671012840192458, 0.9180145813286265)\n",
      "(11.781509657880608, 6.953817843240318, 2.0389658017259538)\n",
      "(3.7372784857567476, 6.58410403675226, 2.426513301218182)\n"
     ]
    }
   ],
   "source": [
    "for ii, test_name in tqdm(list(enumerate(os.listdir(pr_data_dir)))[:5]):\n",
    "    test_dir = os.path.join(pr_data_dir, test_name)\n",
    "    try:\n",
    "        transforms_ = np.loadtxt(os.path.join(test_dir, 'transforms.txt'))\n",
    "    except FileNotFoundError:\n",
    "        continue\n",
    "\n",
    "    if transforms_.size == 0:\n",
    "        continue\n",
    "    if transforms_.ndim == 1:\n",
    "        transforms_ = transforms_[np.newaxis, :]\n",
    "    \n",
    "    cand_clouds = {}\n",
    "    cand_poses = {}\n",
    "\n",
    "    # Reference cloud (from robot)\n",
    "    with np.load(os.path.join(test_dir, 'cloud.npz')) as CloudFile:\n",
    "        ref_cloud = CloudFile['arr_0']\n",
    "\n",
    "    ref_cloud = ref_cloud[:, :3]\n",
    "    ref_cloud = ref_cloud[ref_cloud == ref_cloud].reshape((-1, 3))\n",
    "    \n",
    "    if transforms_.size == 0:\n",
    "        continue\n",
    "    \n",
    "    for idx in transforms_[:, 0]:\n",
    "        cloud = np.load(os.path.join(graph_data_dir, str(int(idx)), 'cloud.npz'))['arr_0']\n",
    "        pose_stamped = np.loadtxt(os.path.join(graph_data_dir, str(int(idx)), 'pose_stamped.txt'))\n",
    "        cand_clouds[int(idx)] = cloud\n",
    "        cand_poses[int(idx)] = pose_stamped[1:]\n",
    "    \n",
    "    gt_poses = np.loadtxt(os.path.join(test_dir, 'gt_poses.txt'))\n",
    "    \n",
    "    for i in range(transforms_.size // 7):\n",
    "        idx = transforms_[i, 0]\n",
    "        gt_pose = cand_poses[int(idx)]\n",
    "        pose_shift = get_rel_pose(*gt_poses[0], *gt_pose)\n",
    "\n",
    "        # Candidate cloud (from graph of locations)\n",
    "        cloud = cand_clouds[idx][:, :3]\n",
    "        cloud = cloud[cloud == cloud].reshape((-1, 3))\n",
    "\n",
    "        ransac_voxel_size = 0.2\n",
    "\n",
    "        # ICP\n",
    "        start_time = time.time()\n",
    "        ransac_global_registration = get_global_registration(ref_cloud, cloud, voxel_size=ransac_voxel_size, algorithm='correspondences')\n",
    "        # ransac_global_registration = get_global_fcgf_registration(ref_cloud, cloud, voxel_size=ransac_voxel_size, model=model, device=device)\n",
    "        ransac_initial_transform = ransac_global_registration.transformation\n",
    "        tf_ransac_matrix_icp, fitness_ransac_icp = transform_icp(ref_cloud, cloud, ransac_initial_transform)\n",
    "        # icp_times.append(time.time() - start_time)\n",
    "\n",
    "        error_icp = transformation_error(pose_shift, np.linalg.inv(tf_ransac_matrix_icp))\n",
    "        icp_results.append([fitness_ransac_icp, error_icp])\n",
    "        print(error_icp)"
   ]
  },
  {
   "cell_type": "code",
   "execution_count": 32,
   "metadata": {},
   "outputs": [],
   "source": [
    "model_name = 'fcgf_kitti_no_distance'\n",
    "\n",
    "\n",
    "if save_results and not import_results:\n",
    "    icp_results_fitness_numpy = []\n",
    "    icp_results_error_numpy = []\n",
    "    icp_times_numpy = np.array(icp_times)\n",
    "\n",
    "    for i in range(len(icp_results)):\n",
    "        icp_results_fitness_numpy.append(icp_results[i][0])\n",
    "        icp_results_error_numpy.append(icp_results[i][1])\n",
    "\n",
    "    np.save(f'../results/{model_name}_results_fitness.npy', icp_results_fitness_numpy)\n",
    "    np.save(f'../results/{model_name}_results_error.npy', icp_results_error_numpy)\n",
    "    np.save(f'../results/{model_name}_times.npy', icp_times_numpy)\n",
    "\n",
    "if import_results:\n",
    "    icp_times = list(np.load(f'../results/{model_name}_times.npy'))\n",
    "    icp_results_fitness_numpy = np.load(f'../results/{model_name}_results_fitness.npy')\n",
    "    icp_results_error_numpy = np.load(f'../results/{model_name}_results_error.npy')\n",
    "\n",
    "    for i in range(len(icp_results_fitness_numpy)):\n",
    "        icp_results.append([icp_results_fitness_numpy[i], list(icp_results_error_numpy[i])])"
   ]
  },
  {
   "cell_type": "markdown",
   "metadata": {},
   "source": [
    "### Test set properties"
   ]
  },
  {
   "cell_type": "code",
   "execution_count": 33,
   "metadata": {
    "scrolled": true
   },
   "outputs": [
    {
     "name": "stdout",
     "output_type": "stream",
     "text": [
      "Total number of pairs: 8025\n",
      "Number of pairs with IoU > 0.5: 807\n",
      "Number of pairs with IoU > 0.25: 4487\n",
      "Number of pairs closer than 5 m: 2676\n",
      "Number of pairs further than 10 m: 3080\n"
     ]
    }
   ],
   "source": [
    "print('Total number of pairs:', len(ious))\n",
    "print('Number of pairs with IoU > 0.5:', sum([i > 0.5 for i in ious]))\n",
    "print('Number of pairs with IoU > 0.25:', sum([i > 0.25 for i in ious]))\n",
    "print('Number of pairs closer than 5 m:', sum([i < 5 for i in dists]))\n",
    "print('Number of pairs further than 10 m:', sum([i > 10 for i in dists]))"
   ]
  },
  {
   "cell_type": "markdown",
   "metadata": {},
   "source": [
    "### ICP results"
   ]
  },
  {
   "cell_type": "code",
   "execution_count": 34,
   "metadata": {
    "scrolled": true
   },
   "outputs": [
    {
     "name": "stdout",
     "output_type": "stream",
     "text": [
      "Average runtime: 812.10 ms\n",
      "Median runtime: 699.48 ms\n"
     ]
    }
   ],
   "source": [
    "print(f'Average runtime: {(np.mean(icp_times) * 1000):.2f} ms')\n",
    "print(f'Median runtime: {(np.median(icp_times) * 1000):.2f} ms')"
   ]
  },
  {
   "cell_type": "code",
   "execution_count": 35,
   "metadata": {},
   "outputs": [
    {
     "name": "stdout",
     "output_type": "stream",
     "text": [
      "Average preprocess runtime: 119.04 ms\n",
      "Average registration runtime: 423.81 ms\n",
      "Average ICP transform runtime: 268.99 ms\n"
     ]
    }
   ],
   "source": [
    "print(f'Average preprocess runtime: {(np.mean(preprocess_time) * 1000):.2f} ms')\n",
    "print(f'Average registration runtime: {(np.mean(registration_time) * 1000):.2f} ms')\n",
    "print(f'Average ICP transform runtime: {(np.mean(transform_time) * 1000):.2f} ms')"
   ]
  },
  {
   "cell_type": "code",
   "execution_count": 36,
   "metadata": {},
   "outputs": [
    {
     "data": {
      "image/png": "[encoded data removed]",
      "text/plain": [
       "<Figure size 800x200 with 1 Axes>"
      ]
     },
     "metadata": {},
     "output_type": "display_data"
    }
   ],
   "source": [
    "mean_times = [np.mean(preprocess_time) * 1000, np.mean(registration_time) * 1000, np.mean(transform_time) * 1000]\n",
    "labels = ['Пропроцессинг', 'Регистрация', 'ICP']\n",
    "\n",
    "total_time = sum(mean_times)\n",
    "\n",
    "plt.figure(figsize=(8, 2))\n",
    "bar_height = 0.8\n",
    "\n",
    "plt.barh(['Total Time'], [mean_times[0]], height=bar_height, label=labels[0], color='skyblue')\n",
    "plt.barh(['Total Time'], [mean_times[1]], height=bar_height, left=[mean_times[0]], label=labels[1], color='orange')\n",
    "plt.barh(['Total Time'], [mean_times[2]], height=bar_height, left=[mean_times[0] + mean_times[1]], label=labels[2], color='lightgreen')\n",
    "\n",
    "for i, time in enumerate(mean_times):\n",
    "    x_position = sum(mean_times[:i]) + time / 2\n",
    "    plt.text(x_position, 0, f'{time:.1f}', ha='center', va='center', color='black', fontsize=10)\n",
    "\n",
    "plt.xlabel('Time')\n",
    "plt.title('Вклад в общее время работы')\n",
    "plt.legend(bbox_to_anchor=(1.05, 1), loc='upper left')\n",
    "plt.tight_layout()\n",
    "plt.show()"
   ]
  },
  {
   "cell_type": "markdown",
   "metadata": {},
   "source": [
    "Среднее время работы ICP составило около 600мс, что примерно в 6 раз превышает время 1 тика лидара.\n",
    "\n",
    "Это не позволит использовать данный алгоритм в текущем виде на реальных роботах, но как бейзлайн, от которого впоследствии можно будет отталкиваться подойдёт"
   ]
  },
  {
   "cell_type": "code",
   "execution_count": 37,
   "metadata": {
    "scrolled": false
   },
   "outputs": [
    {
     "name": "stdout",
     "output_type": "stream",
     "text": [
      "Number of correct matches with IoU > 0.5: 243\n",
      "Number of correct matches with IoU > 0.25: 256\n",
      "Number of wrong matches: 278\n",
      "Number of missed matches with IoU > 0.5: 346\n",
      "Number of missed matches with IoU > 0.25: 3956\n"
     ]
    }
   ],
   "source": [
    "threshold = 0.7  # изначально тут стояло 0.6, но в ТЗ указано 0.7\n",
    "\n",
    "print('Number of correct matches with IoU > 0.5:', np.sum([(icp_results[i][0] > threshold) * (max(icp_results[i][1]) < 0.5) \\\n",
    "                                              for i in range(len(ious)) if ious[i] > 0.5]))\n",
    "print('Number of correct matches with IoU > 0.25:', np.sum([(icp_results[i][0] > threshold) * (max(icp_results[i][1]) < 0.5) \\\n",
    "                                              for i in range(len(ious)) if ious[i] > 0.25]))\n",
    "print('Number of wrong matches:', np.sum([(fitness > threshold) * (max(error) > 0.5) \\\n",
    "                                              for fitness, error in icp_results]))\n",
    "print('Number of missed matches with IoU > 0.5:', np.sum([(icp_results[i][0] < threshold) * (ious[i] > 0.5) \\\n",
    "                                                          for i in range(len(ious))]))\n",
    "print('Number of missed matches with IoU > 0.25:', np.sum([(icp_results[i][0] < threshold) * (ious[i] > 0.25) \\\n",
    "                                                          for i in range(len(ious))]))"
   ]
  },
  {
   "cell_type": "code",
   "execution_count": 38,
   "metadata": {},
   "outputs": [
    {
     "name": "stdout",
     "output_type": "stream",
     "text": [
      "Precision: 0.4794007490636704\n",
      "Recall with IoU > 0.5: 0.30111524163568776\n",
      "Recall with IoU > 0.25: 0.05705371071985737\n"
     ]
    }
   ],
   "source": [
    "threshold = 0.7\n",
    "print('Precision:', np.sum([(fitness > threshold) * (max(error) < 0.5) \\\n",
    "                                              for fitness, error in icp_results]) / \\\n",
    "                    np.sum([(fitness > threshold) for fitness, error in icp_results]))\n",
    "print('Recall with IoU > 0.5:', np.sum([(icp_results[i][0] > threshold) * (max(icp_results[i][1]) < 0.5) \\\n",
    "                                              for i in range(len(ious)) if ious[i] > 0.5]) / \\\n",
    "                                sum([i > 0.5 for i in ious]))\n",
    "print('Recall with IoU > 0.25:', np.sum([(icp_results[i][0] > threshold) * (max(icp_results[i][1]) < 0.5) \\\n",
    "                                              for i in range(len(ious)) if ious[i] > 0.25]) / \\\n",
    "                                sum([i > 0.25 for i in ious]))"
   ]
  },
  {
   "cell_type": "code",
   "execution_count": 41,
   "metadata": {},
   "outputs": [],
   "source": [
    "def get_iou_interval_indexes(lower_bound, upper_bound):\n",
    "    return [i for i in range(len(ious)) if lower_bound <= ious[i] <= upper_bound]"
   ]
  },
  {
   "cell_type": "code",
   "execution_count": 42,
   "metadata": {},
   "outputs": [
    {
     "data": {
      "text/plain": [
       "(8025, 2)"
      ]
     },
     "execution_count": 42,
     "metadata": {},
     "output_type": "execute_result"
    }
   ],
   "source": [
    "icp_results_maxed = []\n",
    "\n",
    "for fitness, error in icp_results:\n",
    "    icp_results_maxed.append([fitness, max(error)])\n",
    "\n",
    "icp_results_maxed = np.array(icp_results_maxed)\n",
    "icp_results_maxed.shape"
   ]
  },
  {
   "cell_type": "code",
   "execution_count": 43,
   "metadata": {},
   "outputs": [],
   "source": [
    "intervals = [\n",
    "    [0.1, 0.2], [0.2, 0.3], [0.3, 0.4], [0.4, 0.5], [0.5, 0.6],\n",
    "    [0.6, 0.7], [0.7, 0.8], [0.8, 0.9], [0.9, 1.0],\n",
    "]\n",
    "\n",
    "process_times = []\n",
    "precision_values = []\n",
    "threshold = 0.7\n",
    "\n",
    "for lower_bound, upper_bound in intervals:\n",
    "    suitable_indices = get_iou_interval_indexes(lower_bound, upper_bound)\n",
    "\n",
    "    process_times.append(round(np.mean(np.array(icp_times)[suitable_indices]) * 1000))\n",
    "\n",
    "    if np.sum([(fitness > threshold) for fitness, error in icp_results_maxed[suitable_indices]]) == 0:\n",
    "        precision = 0\n",
    "    else:\n",
    "        precision = np.sum([(fitness > threshold) * (error < 0.5) \\\n",
    "                                                for fitness, error in icp_results_maxed[suitable_indices]]) / np.sum([(fitness > threshold) for fitness, error in icp_results_maxed[suitable_indices]])\n",
    "\n",
    "    precision_values.append(precision)\n"
   ]
  },
  {
   "cell_type": "code",
   "execution_count": 44,
   "metadata": {},
   "outputs": [
    {
     "data": {
      "image/png": "[encoded data removed]",
      "text/plain": [
       "<Figure size 1000x600 with 1 Axes>"
      ]
     },
     "metadata": {},
     "output_type": "display_data"
    }
   ],
   "source": [
    "iou_intervals = ['[0.1; 0.2]', '[0.1; 0.3]', '[0.3; 0.4]', '[0.4; 0.5]', \n",
    "              '[0.5; 0.6]', '[0.6; 0.7]', '[0.7; 0.8]', '[0.8; 0.9]', '[0.9; 1.0]']\n",
    "\n",
    "sorted_indices = [i for i in range(len(iou_intervals))]\n",
    "intervals_sorted = [iou_intervals[i] for i in sorted_indices]\n",
    "process_times_sorted = [process_times[i] for i in sorted_indices]\n",
    "\n",
    "plt.figure(figsize=(10, 6))\n",
    "plt.barh(intervals_sorted, process_times_sorted, color='skyblue')\n",
    "plt.xlabel('Время выполнения, мс')\n",
    "plt.ylabel('IoU')\n",
    "plt.title('Время выполнения ICP в зависимости от IoU')\n",
    "\n",
    "for i, v in enumerate(process_times_sorted):\n",
    "    plt.text(v + 8, i, f\"{v:.0f}\", va='center')\n",
    "\n",
    "plt.gca().invert_yaxis()\n",
    "plt.tight_layout()\n",
    "plt.show()\n"
   ]
  },
  {
   "cell_type": "code",
   "execution_count": 45,
   "metadata": {},
   "outputs": [
    {
     "data": {
      "image/png": "[encoded data removed]",
      "text/plain": [
       "<Figure size 1000x600 with 1 Axes>"
      ]
     },
     "metadata": {},
     "output_type": "display_data"
    }
   ],
   "source": [
    "iou_intervals = ['[0.1; 0.2]', '[0.1; 0.3]', '[0.3; 0.4]', '[0.4; 0.5]', \n",
    "              '[0.5; 0.6]', '[0.6; 0.7]', '[0.7; 0.8]', '[0.8; 0.9]', '[0.9; 1.0]']\n",
    "\n",
    "sorted_indices = [i for i in range(len(iou_intervals))]\n",
    "intervals_sorted = [iou_intervals[i] for i in sorted_indices]\n",
    "precision_values_sorted = [precision_values[i] for i in sorted_indices]\n",
    "\n",
    "plt.figure(figsize=(10, 6))\n",
    "plt.barh(intervals_sorted, precision_values_sorted, color='skyblue')\n",
    "plt.xlabel('Precision')\n",
    "plt.ylabel('IoU')\n",
    "plt.title('Значение Precision в зависимости от IoU')\n",
    "\n",
    "for i, v in enumerate(precision_values_sorted):\n",
    "    plt.text(v + 0.01, i, f\"{v:.2f}\", va='center')\n",
    "\n",
    "plt.gca().invert_yaxis()\n",
    "plt.tight_layout()\n",
    "plt.show()\n"
   ]
  },
  {
   "cell_type": "markdown",
   "metadata": {},
   "source": [
    "Делать какие-то выводы об успешности модели я не могу - опыта в подобных задачах у меня не было, насмотренность на показатели метрик ещё не выработалась( Но я доволен, что решение работает, показывает какие-никакие, но результаты\n",
    "\n",
    "Проблему скорости можно попробовать решить использованием C++, потому что хоть я по максимуму использую функции из библиотек, но есть подозрение, что это может помочь"
   ]
  },
  {
   "cell_type": "markdown",
   "metadata": {},
   "source": [
    "# Подбор гиперпараметров"
   ]
  },
  {
   "cell_type": "markdown",
   "metadata": {},
   "source": [
    "### Voxel Size"
   ]
  },
  {
   "cell_type": "markdown",
   "metadata": {},
   "source": [
    "Основным гиперпараметром, который я подбирал был voxel_size. Требовалось найти(пока что на глаз), размер, который бы сохранял достаточно информации, но при этом бы сокращал время обработки"
   ]
  },
  {
   "cell_type": "code",
   "execution_count": 3,
   "metadata": {},
   "outputs": [],
   "source": [
    "import copy"
   ]
  },
  {
   "cell_type": "code",
   "execution_count": 26,
   "metadata": {},
   "outputs": [],
   "source": [
    "def draw_registration_result(source, target, transformation):\n",
    "    source_temp = copy.deepcopy(source)\n",
    "    target_temp = copy.deepcopy(target)\n",
    "    source_temp.paint_uniform_color([1, 0.706, 0])\n",
    "    target_temp.paint_uniform_color([0, 0.651, 0.929])\n",
    "    source_temp.transform(transformation)\n",
    "    o3d.visualization.draw_plotly([source_temp, target_temp], width=800, height=600)"
   ]
  },
  {
   "cell_type": "code",
   "execution_count": 6,
   "metadata": {},
   "outputs": [],
   "source": [
    "dataset_dir = './data'\n",
    "pr_data_dir = os.path.join(dataset_dir, 'place_recognition_data')\n",
    "graph_data_dir = os.path.join(dataset_dir, 'graph_data')"
   ]
  },
  {
   "cell_type": "code",
   "execution_count": 7,
   "metadata": {},
   "outputs": [],
   "source": [
    "sample_dir = os.listdir(pr_data_dir)[0]\n",
    "\n",
    "test_dir = os.path.join(pr_data_dir, sample_dir)\n",
    "transforms_ = np.loadtxt(os.path.join(test_dir, 'transforms.txt'))\n",
    "\n",
    "cand_clouds = {}\n",
    "cand_poses = {}\n",
    "\n",
    "with np.load(os.path.join(test_dir, 'cloud.npz')) as CloudFile:\n",
    "    ref_cloud = CloudFile['arr_0']\n",
    "\n",
    "ref_cloud = ref_cloud[:, :3]\n",
    "ref_cloud = ref_cloud[ref_cloud == ref_cloud].reshape((-1, 3))\n",
    "\n",
    "for idx in transforms_[:, 0]:\n",
    "    cloud = np.load(os.path.join(graph_data_dir, str(int(idx)), 'cloud.npz'))['arr_0']\n",
    "    pose_stamped = np.loadtxt(os.path.join(graph_data_dir, str(int(idx)), 'pose_stamped.txt'))\n",
    "    cand_clouds[int(idx)] = cloud\n",
    "    cand_poses[int(idx)] = pose_stamped[1:]"
   ]
  },
  {
   "cell_type": "code",
   "execution_count": 11,
   "metadata": {},
   "outputs": [],
   "source": [
    "cloud = cand_clouds[list(cand_clouds.keys())[0]]"
   ]
  },
  {
   "cell_type": "code",
   "execution_count": 22,
   "metadata": {},
   "outputs": [],
   "source": [
    "source = make_pcd_from_array(cloud[:, :3])\n",
    "target = make_pcd_from_array(ref_cloud)"
   ]
  },
  {
   "cell_type": "markdown",
   "metadata": {},
   "source": [
    "Если не убирать графики из отображения, то размер блокнота увеличивается до 60Мб. При желании можно запустить клетки с импортом библиотек и объявлением вспомогательных функций, чтобы заново отобразить графики. В целях демонстрации прикрепляю изображения"
   ]
  },
  {
   "cell_type": "code",
   "execution_count": null,
   "metadata": {},
   "outputs": [],
   "source": [
    "draw_registration_result(source, target, np.identity(4))"
   ]
  },
  {
   "cell_type": "markdown",
   "metadata": {},
   "source": [
    "Изначальные облака точек\n",
    "\n",
    "![](https://i.ibb.co/Vpg95jq/base-cloud.png)"
   ]
  },
  {
   "cell_type": "code",
   "execution_count": null,
   "metadata": {},
   "outputs": [],
   "source": [
    "voxel_size = 0.05\n",
    "\n",
    "source_down = make_pcd_from_array(cloud[:, :3]).voxel_down_sample(voxel_size=voxel_size)\n",
    "target_down = make_pcd_from_array(ref_cloud).voxel_down_sample(voxel_size=voxel_size)\n",
    "\n",
    "draw_registration_result(source_down, target_down, np.identity(4))"
   ]
  },
  {
   "cell_type": "markdown",
   "metadata": {},
   "source": [
    "Облака точек при `voxel_size=0.05`\n",
    "\n",
    "![](https://i.ibb.co/S3fhz7L/cloud-05.png)"
   ]
  },
  {
   "cell_type": "code",
   "execution_count": null,
   "metadata": {},
   "outputs": [],
   "source": [
    "voxel_size = 0.1\n",
    "\n",
    "source_down = make_pcd_from_array(cloud[:, :3]).voxel_down_sample(voxel_size=voxel_size)\n",
    "target_down = make_pcd_from_array(ref_cloud).voxel_down_sample(voxel_size=voxel_size)\n",
    "\n",
    "draw_registration_result(source_down, target_down, np.identity(4))"
   ]
  },
  {
   "cell_type": "markdown",
   "metadata": {},
   "source": [
    "Облака точек при `voxel_size=0.1`\n",
    "\n",
    "![](https://i.ibb.co/pbmSQcr/cloud-1.png)"
   ]
  },
  {
   "cell_type": "code",
   "execution_count": null,
   "metadata": {},
   "outputs": [],
   "source": [
    "voxel_size = 0.2\n",
    "\n",
    "source_down = make_pcd_from_array(cloud[:, :3]).voxel_down_sample(voxel_size=voxel_size)\n",
    "target_down = make_pcd_from_array(ref_cloud).voxel_down_sample(voxel_size=voxel_size)\n",
    "\n",
    "draw_registration_result(source_down, target_down, np.identity(4))"
   ]
  },
  {
   "cell_type": "markdown",
   "metadata": {},
   "source": [
    "Облака точек при `voxel_size=0.2`\n",
    "\n",
    "![](https://i.ibb.co/NZD7Nkh/cloud-2.png)"
   ]
  },
  {
   "cell_type": "code",
   "execution_count": null,
   "metadata": {},
   "outputs": [],
   "source": [
    "voxel_size = 0.5\n",
    "\n",
    "source_down = make_pcd_from_array(cloud[:, :3]).voxel_down_sample(voxel_size=voxel_size)\n",
    "target_down = make_pcd_from_array(ref_cloud).voxel_down_sample(voxel_size=voxel_size)\n",
    "\n",
    "draw_registration_result(source_down, target_down, np.identity(4))"
   ]
  },
  {
   "cell_type": "markdown",
   "metadata": {},
   "source": [
    "Облака точек при `voxel_size=0.5`\n",
    "\n",
    "![](https://i.ibb.co/z2FqpxQ/cloud-5.png)"
   ]
  },
  {
   "cell_type": "markdown",
   "metadata": {},
   "source": [
    "В итоге я решил оставиться на voxel_size = 0.2. При этом значении сохраняется достаточное количество точек и время вычисления не выходит за рамки разумного"
   ]
  },
  {
   "cell_type": "markdown",
   "metadata": {},
   "source": [
    "### Сравнение скорости и качества RANSAC и Fast global registration"
   ]
  },
  {
   "cell_type": "markdown",
   "metadata": {},
   "source": [
    "В библиотеке Open3d представлено 2 основных алгоритма для глобальной регистрации: RANSAC и Fast Global Registration. Второй алгоритм по описанию должен позволять оптимизировать первое приближение быстрее RANSAC и при этом не сильно терять в качестве"
   ]
  },
  {
   "cell_type": "markdown",
   "metadata": {},
   "source": [
    "Для проверки я выбрал 100 случайных сэмплов и запустил на оба 2 алгоритма."
   ]
  },
  {
   "cell_type": "code",
   "execution_count": 45,
   "metadata": {},
   "outputs": [],
   "source": [
    "ransac_fitness = []\n",
    "fast_fitness = []\n",
    "\n",
    "ransac_times = []\n",
    "fast_times = []\n",
    "\n",
    "ransac_errors = []\n",
    "fast_errors = []"
   ]
  },
  {
   "cell_type": "code",
   "execution_count": 43,
   "metadata": {},
   "outputs": [],
   "source": [
    "import random\n",
    "\n",
    "random.seed(42)\n",
    "random_dirs = os.listdir(pr_data_dir)\n",
    "random.shuffle(random_dirs)"
   ]
  },
  {
   "cell_type": "code",
   "execution_count": null,
   "metadata": {},
   "outputs": [
    {
     "data": {
      "application/vnd.jupyter.widget-view+json": {
       "model_id": "0b7eaa394c3b46a782aec1d63284ab22",
       "version_major": 2,
       "version_minor": 0
      },
      "text/plain": [
       "  0%|          | 0/100 [00:00<?, ?it/s]"
      ]
     },
     "metadata": {},
     "output_type": "display_data"
    },
    {
     "name": "stderr",
     "output_type": "stream",
     "text": [
      "/tmp/ipykernel_8317/2606516879.py:4: UserWarning: loadtxt: input contained no data: \"./data/place_recognition_data/1710505116224765000/transforms.txt\"\n",
      "  transforms_ = np.loadtxt(os.path.join(test_dir, 'transforms.txt'))\n",
      "/tmp/ipykernel_8317/2606516879.py:4: UserWarning: loadtxt: input contained no data: \"./data/place_recognition_data/1710495413820100000/transforms.txt\"\n",
      "  transforms_ = np.loadtxt(os.path.join(test_dir, 'transforms.txt'))\n"
     ]
    }
   ],
   "source": [
    "for ii, test_name in tqdm(list(enumerate(random_dirs[:100]))):\n",
    "    test_dir = os.path.join(pr_data_dir, test_name)\n",
    "    try:\n",
    "        transforms_ = np.loadtxt(os.path.join(test_dir, 'transforms.txt'))\n",
    "    except FileNotFoundError:\n",
    "        continue\n",
    "\n",
    "    if transforms_.size == 0:\n",
    "        continue\n",
    "    if transforms_.ndim == 1:\n",
    "        transforms_ = transforms_[np.newaxis, :]\n",
    "    \n",
    "    cand_clouds = {}\n",
    "    cand_poses = {}\n",
    "\n",
    "    # Reference cloud (from robot)\n",
    "    with np.load(os.path.join(test_dir, 'cloud.npz')) as CloudFile:\n",
    "        ref_cloud = CloudFile['arr_0']\n",
    "\n",
    "    ref_cloud = ref_cloud[:, :3]\n",
    "    ref_cloud = ref_cloud[ref_cloud == ref_cloud].reshape((-1, 3))\n",
    "    \n",
    "    if transforms_.size == 0:\n",
    "        continue\n",
    "    \n",
    "    for idx in transforms_[:, 0]:\n",
    "        cloud = np.load(os.path.join(graph_data_dir, str(int(idx)), 'cloud.npz'))['arr_0']\n",
    "        pose_stamped = np.loadtxt(os.path.join(graph_data_dir, str(int(idx)), 'pose_stamped.txt'))\n",
    "        cand_clouds[int(idx)] = cloud\n",
    "        cand_poses[int(idx)] = pose_stamped[1:]\n",
    "    \n",
    "    gt_poses = np.loadtxt(os.path.join(test_dir, 'gt_poses.txt'))\n",
    "    ref_cloud = ref_cloud[ref_cloud == ref_cloud].reshape((-1, 3))\n",
    "    \n",
    "    for i in range(transforms_.size // 7):\n",
    "        idx = transforms_[i, 0]\n",
    "        gt_pose = cand_poses[int(idx)]\n",
    "        pose_shift = get_rel_pose(*gt_poses[0], *gt_pose)\n",
    "\n",
    "        # Candidate cloud (from graph of locations)\n",
    "        cloud = cand_clouds[idx][:, :3]\n",
    "        cloud = cloud[cloud == cloud].reshape((-1, 3))\n",
    "\n",
    "\n",
    "        ransac_voxel_size = 0.2\n",
    "        fast_voxel_size = 0.2  # [0.15, 0.25]\n",
    "\n",
    "        # ICP\n",
    "        # RANSAC GLOBAL REGISTRATION\n",
    "        start_time = time.time()\n",
    "        ransac_global_registration = get_global_registration(ref_cloud, cloud, voxel_size=ransac_voxel_size, algorithm='ransac')\n",
    "        ransac_initial_transform = ransac_global_registration.transformation\n",
    "        tf_ransac_matrix_icp, fitness_ransac_icp = transform_icp(ref_cloud, cloud, ransac_initial_transform)\n",
    "        ransac_times.append(time.time() - start_time)\n",
    "\n",
    "        error_ransac_icp = transformation_error(pose_shift, np.linalg.inv(tf_ransac_matrix_icp))\n",
    "        \n",
    "        ransac_fitness.append(fitness_ransac_icp)\n",
    "        ransac_errors.append(error_ransac_icp)\n",
    "        \n",
    "        # FAST GLOBAL REGISTRATION\n",
    "        start_time = time.time()\n",
    "        fast_global_registration = get_global_registration(ref_cloud, cloud, voxel_size=fast_voxel_size, algorithm='fast')\n",
    "        fast_initial_transform = fast_global_registration.transformation\n",
    "        tf_fast_matrix_icp, fitness_fast_icp = transform_icp(ref_cloud, cloud, fast_initial_transform)\n",
    "        fast_times.append(time.time() - start_time)\n",
    "\n",
    "        error_fast_icp = transformation_error(pose_shift, np.linalg.inv(tf_fast_matrix_icp))\n",
    "        \n",
    "        fast_fitness.append(fitness_fast_icp)\n",
    "        fast_errors.append(error_fast_icp)"
   ]
  },
  {
   "cell_type": "code",
   "execution_count": null,
   "metadata": {},
   "outputs": [],
   "source": [
    "np.save('results/ransac_fitness.npy', np.array(ransac_fitness))\n",
    "np.save('results/fast_fitness.npy', np.array(fast_fitness))\n",
    "\n",
    "np.save('results/ransac_times.npy', np.array(ransac_times))\n",
    "np.save('results/fast_times.npy', np.array(fast_times))\n",
    "\n",
    "np.save('results/ransac_errors.npy', np.array(ransac_errors))\n",
    "np.save('results/fast_errors.npy', np.array(fast_errors))"
   ]
  },
  {
   "cell_type": "code",
   "execution_count": 48,
   "metadata": {},
   "outputs": [],
   "source": [
    "import pandas as pd"
   ]
  },
  {
   "cell_type": "code",
   "execution_count": 56,
   "metadata": {},
   "outputs": [
    {
     "data": {
      "text/html": [
       "<div>\n",
       "<style scoped>\n",
       "    .dataframe tbody tr th:only-of-type {\n",
       "        vertical-align: middle;\n",
       "    }\n",
       "\n",
       "    .dataframe tbody tr th {\n",
       "        vertical-align: top;\n",
       "    }\n",
       "\n",
       "    .dataframe thead th {\n",
       "        text-align: right;\n",
       "    }\n",
       "</style>\n",
       "<table border=\"1\" class=\"dataframe\">\n",
       "  <thead>\n",
       "    <tr style=\"text-align: right;\">\n",
       "      <th></th>\n",
       "      <th>RANSAC fitness</th>\n",
       "      <th>FAST fitness</th>\n",
       "      <th>RANSAC times</th>\n",
       "      <th>FAST times</th>\n",
       "      <th>RANSAC errors</th>\n",
       "      <th>FAST errors</th>\n",
       "    </tr>\n",
       "  </thead>\n",
       "  <tbody>\n",
       "    <tr>\n",
       "      <th>count</th>\n",
       "      <td>485.000000</td>\n",
       "      <td>485.000000</td>\n",
       "      <td>485.000000</td>\n",
       "      <td>485.000000</td>\n",
       "      <td>4.850000e+02</td>\n",
       "      <td>4.850000e+02</td>\n",
       "    </tr>\n",
       "    <tr>\n",
       "      <th>mean</th>\n",
       "      <td>0.306485</td>\n",
       "      <td>0.259724</td>\n",
       "      <td>0.690037</td>\n",
       "      <td>0.588260</td>\n",
       "      <td>7.067933e+00</td>\n",
       "      <td>6.819491e+00</td>\n",
       "    </tr>\n",
       "    <tr>\n",
       "      <th>std</th>\n",
       "      <td>0.253180</td>\n",
       "      <td>0.266060</td>\n",
       "      <td>0.243405</td>\n",
       "      <td>0.227760</td>\n",
       "      <td>4.724435e+00</td>\n",
       "      <td>4.600473e+00</td>\n",
       "    </tr>\n",
       "    <tr>\n",
       "      <th>min</th>\n",
       "      <td>0.020458</td>\n",
       "      <td>0.012033</td>\n",
       "      <td>0.241237</td>\n",
       "      <td>0.209621</td>\n",
       "      <td>2.948426e-09</td>\n",
       "      <td>6.236649e-09</td>\n",
       "    </tr>\n",
       "    <tr>\n",
       "      <th>25%</th>\n",
       "      <td>0.122318</td>\n",
       "      <td>0.079846</td>\n",
       "      <td>0.494844</td>\n",
       "      <td>0.408611</td>\n",
       "      <td>3.189762e+00</td>\n",
       "      <td>3.189762e+00</td>\n",
       "    </tr>\n",
       "    <tr>\n",
       "      <th>50%</th>\n",
       "      <td>0.197496</td>\n",
       "      <td>0.134022</td>\n",
       "      <td>0.650617</td>\n",
       "      <td>0.539859</td>\n",
       "      <td>6.402243e+00</td>\n",
       "      <td>6.184674e+00</td>\n",
       "    </tr>\n",
       "    <tr>\n",
       "      <th>75%</th>\n",
       "      <td>0.414545</td>\n",
       "      <td>0.385208</td>\n",
       "      <td>0.847996</td>\n",
       "      <td>0.741651</td>\n",
       "      <td>1.006002e+01</td>\n",
       "      <td>9.594741e+00</td>\n",
       "    </tr>\n",
       "    <tr>\n",
       "      <th>max</th>\n",
       "      <td>1.000000</td>\n",
       "      <td>1.000000</td>\n",
       "      <td>1.370953</td>\n",
       "      <td>1.323295</td>\n",
       "      <td>2.422411e+01</td>\n",
       "      <td>2.359514e+01</td>\n",
       "    </tr>\n",
       "  </tbody>\n",
       "</table>\n",
       "</div>"
      ],
      "text/plain": [
       "       RANSAC fitness  FAST fitness  RANSAC times  FAST times  RANSAC errors  \\\n",
       "count      485.000000    485.000000    485.000000  485.000000   4.850000e+02   \n",
       "mean         0.306485      0.259724      0.690037    0.588260   7.067933e+00   \n",
       "std          0.253180      0.266060      0.243405    0.227760   4.724435e+00   \n",
       "min          0.020458      0.012033      0.241237    0.209621   2.948426e-09   \n",
       "25%          0.122318      0.079846      0.494844    0.408611   3.189762e+00   \n",
       "50%          0.197496      0.134022      0.650617    0.539859   6.402243e+00   \n",
       "75%          0.414545      0.385208      0.847996    0.741651   1.006002e+01   \n",
       "max          1.000000      1.000000      1.370953    1.323295   2.422411e+01   \n",
       "\n",
       "        FAST errors  \n",
       "count  4.850000e+02  \n",
       "mean   6.819491e+00  \n",
       "std    4.600473e+00  \n",
       "min    6.236649e-09  \n",
       "25%    3.189762e+00  \n",
       "50%    6.184674e+00  \n",
       "75%    9.594741e+00  \n",
       "max    2.359514e+01  "
      ]
     },
     "execution_count": 56,
     "metadata": {},
     "output_type": "execute_result"
    }
   ],
   "source": [
    "pd.DataFrame({\n",
    "    'RANSAC fitness':np.array(ransac_fitness),\n",
    "    'FAST fitness': np.array(fast_fitness),\n",
    "    'RANSAC times':np.array(ransac_times),\n",
    "    'FAST times': np.array(fast_times),\n",
    "    'RANSAC errors': np.array([np.max(row) for row in ransac_errors]),\n",
    "    'FAST errors': np.array([max(row) for row in fast_errors]),\n",
    "    }).describe()"
   ]
  },
  {
   "cell_type": "markdown",
   "metadata": {},
   "source": [
    "Первый запуск я проводил с одинаковым `voxel_size=0.2` \n",
    "\n",
    "Как можно заметить, **RANSAC** имеет качество на 45% лучше, чем **FAST**, если смотреть на медианное значение *fitness*. При этом время работы **RANSAC** больше всего на 20%"
   ]
  },
  {
   "cell_type": "code",
   "execution_count": null,
   "metadata": {},
   "outputs": [
    {
     "data": {
      "text/html": [
       "<div>\n",
       "<style scoped>\n",
       "    .dataframe tbody tr th:only-of-type {\n",
       "        vertical-align: middle;\n",
       "    }\n",
       "\n",
       "    .dataframe tbody tr th {\n",
       "        vertical-align: top;\n",
       "    }\n",
       "\n",
       "    .dataframe thead th {\n",
       "        text-align: right;\n",
       "    }\n",
       "</style>\n",
       "<table border=\"1\" class=\"dataframe\">\n",
       "  <thead>\n",
       "    <tr style=\"text-align: right;\">\n",
       "      <th></th>\n",
       "      <th>FAST fitness</th>\n",
       "      <th>FAST times</th>\n",
       "      <th>FAST errors</th>\n",
       "    </tr>\n",
       "  </thead>\n",
       "  <tbody>\n",
       "    <tr>\n",
       "      <th>count</th>\n",
       "      <td>485.000000</td>\n",
       "      <td>485.000000</td>\n",
       "      <td>4.850000e+02</td>\n",
       "    </tr>\n",
       "    <tr>\n",
       "      <th>mean</th>\n",
       "      <td>0.258596</td>\n",
       "      <td>0.770057</td>\n",
       "      <td>6.847999e+00</td>\n",
       "    </tr>\n",
       "    <tr>\n",
       "      <th>std</th>\n",
       "      <td>0.266641</td>\n",
       "      <td>0.321157</td>\n",
       "      <td>4.569177e+00</td>\n",
       "    </tr>\n",
       "    <tr>\n",
       "      <th>min</th>\n",
       "      <td>0.010053</td>\n",
       "      <td>0.219617</td>\n",
       "      <td>4.313446e-09</td>\n",
       "    </tr>\n",
       "    <tr>\n",
       "      <th>25%</th>\n",
       "      <td>0.077184</td>\n",
       "      <td>0.518332</td>\n",
       "      <td>3.189762e+00</td>\n",
       "    </tr>\n",
       "    <tr>\n",
       "      <th>50%</th>\n",
       "      <td>0.131853</td>\n",
       "      <td>0.697077</td>\n",
       "      <td>6.476144e+00</td>\n",
       "    </tr>\n",
       "    <tr>\n",
       "      <th>75%</th>\n",
       "      <td>0.376687</td>\n",
       "      <td>0.965717</td>\n",
       "      <td>9.977284e+00</td>\n",
       "    </tr>\n",
       "    <tr>\n",
       "      <th>max</th>\n",
       "      <td>1.000000</td>\n",
       "      <td>1.687535</td>\n",
       "      <td>2.311532e+01</td>\n",
       "    </tr>\n",
       "  </tbody>\n",
       "</table>\n",
       "</div>"
      ],
      "text/plain": [
       "       FAST fitness  FAST times   FAST errors\n",
       "count    485.000000  485.000000  4.850000e+02\n",
       "mean       0.258596    0.770057  6.847999e+00\n",
       "std        0.266641    0.321157  4.569177e+00\n",
       "min        0.010053    0.219617  4.313446e-09\n",
       "25%        0.077184    0.518332  3.189762e+00\n",
       "50%        0.131853    0.697077  6.476144e+00\n",
       "75%        0.376687    0.965717  9.977284e+00\n",
       "max        1.000000    1.687535  2.311532e+01"
      ]
     },
     "execution_count": 66,
     "metadata": {},
     "output_type": "execute_result"
    }
   ],
   "source": [
    "# Разные FAST with voxel_size = 0.15\n",
    "pd.DataFrame({\n",
    "    'FAST fitness': np.array(fast_fitness),\n",
    "    'FAST times': np.array(fast_times),\n",
    "    'FAST errors': np.array([max(row) for row in fast_errors]),\n",
    "    }).describe()"
   ]
  },
  {
   "cell_type": "markdown",
   "metadata": {},
   "source": [
    "Второй запуск я произвёл с `voxel_size=0.15` у алгоритма **FAST**.\n",
    "\n",
    "Я надеялся улучшить его качество, не сильно потеряв в скорости. К сожалению, мне не удалось достичь такого результата. Показатели времени сравнялись с **RANSAC** `voxel_size=0.2`, а качество осталось практически идентичным предыдущему запуску **FAST**."
   ]
  },
  {
   "cell_type": "code",
   "execution_count": 49,
   "metadata": {},
   "outputs": [
    {
     "data": {
      "text/html": [
       "<div>\n",
       "<style scoped>\n",
       "    .dataframe tbody tr th:only-of-type {\n",
       "        vertical-align: middle;\n",
       "    }\n",
       "\n",
       "    .dataframe tbody tr th {\n",
       "        vertical-align: top;\n",
       "    }\n",
       "\n",
       "    .dataframe thead th {\n",
       "        text-align: right;\n",
       "    }\n",
       "</style>\n",
       "<table border=\"1\" class=\"dataframe\">\n",
       "  <thead>\n",
       "    <tr style=\"text-align: right;\">\n",
       "      <th></th>\n",
       "      <th>FAST fitness</th>\n",
       "      <th>FAST times</th>\n",
       "      <th>FAST errors</th>\n",
       "    </tr>\n",
       "  </thead>\n",
       "  <tbody>\n",
       "    <tr>\n",
       "      <th>count</th>\n",
       "      <td>485.000000</td>\n",
       "      <td>485.000000</td>\n",
       "      <td>4.850000e+02</td>\n",
       "    </tr>\n",
       "    <tr>\n",
       "      <th>mean</th>\n",
       "      <td>0.256080</td>\n",
       "      <td>0.506057</td>\n",
       "      <td>6.927971e+00</td>\n",
       "    </tr>\n",
       "    <tr>\n",
       "      <th>std</th>\n",
       "      <td>0.265554</td>\n",
       "      <td>0.177137</td>\n",
       "      <td>4.677864e+00</td>\n",
       "    </tr>\n",
       "    <tr>\n",
       "      <th>min</th>\n",
       "      <td>0.009420</td>\n",
       "      <td>0.174025</td>\n",
       "      <td>3.612739e-09</td>\n",
       "    </tr>\n",
       "    <tr>\n",
       "      <th>25%</th>\n",
       "      <td>0.076805</td>\n",
       "      <td>0.363095</td>\n",
       "      <td>3.181746e+00</td>\n",
       "    </tr>\n",
       "    <tr>\n",
       "      <th>50%</th>\n",
       "      <td>0.128896</td>\n",
       "      <td>0.470661</td>\n",
       "      <td>6.376979e+00</td>\n",
       "    </tr>\n",
       "    <tr>\n",
       "      <th>75%</th>\n",
       "      <td>0.365875</td>\n",
       "      <td>0.627157</td>\n",
       "      <td>1.007903e+01</td>\n",
       "    </tr>\n",
       "    <tr>\n",
       "      <th>max</th>\n",
       "      <td>1.000000</td>\n",
       "      <td>1.011291</td>\n",
       "      <td>2.437363e+01</td>\n",
       "    </tr>\n",
       "  </tbody>\n",
       "</table>\n",
       "</div>"
      ],
      "text/plain": [
       "       FAST fitness  FAST times   FAST errors\n",
       "count    485.000000  485.000000  4.850000e+02\n",
       "mean       0.256080    0.506057  6.927971e+00\n",
       "std        0.265554    0.177137  4.677864e+00\n",
       "min        0.009420    0.174025  3.612739e-09\n",
       "25%        0.076805    0.363095  3.181746e+00\n",
       "50%        0.128896    0.470661  6.376979e+00\n",
       "75%        0.365875    0.627157  1.007903e+01\n",
       "max        1.000000    1.011291  2.437363e+01"
      ]
     },
     "execution_count": 49,
     "metadata": {},
     "output_type": "execute_result"
    }
   ],
   "source": [
    "# Разные FAST with voxel_size = 0.25\n",
    "pd.DataFrame({\n",
    "    'FAST fitness': np.array(fast_fitness),\n",
    "    'FAST times': np.array(fast_times),\n",
    "    'FAST errors': np.array([max(row) for row in fast_errors]),\n",
    "    }).describe()"
   ]
  },
  {
   "cell_type": "markdown",
   "metadata": {},
   "source": [
    "На третьем запуске я решил проверить противоположную гипотезу - что если увеличить voxel_size для алгоритма FAST и выиграть за счёт прироста скорости.\n",
    "\n",
    "При `voxel_size=0.25` выигрыш в скорости составил 38%, а потеря в качестве fitness более - 50%. Увы, но эксперимент с алгоритмом FAST не удался. Возможно помог бы тюнинг ещё каких-то параметров помимо `voxel_size`"
   ]
  }
 ],
 "metadata": {
  "kernelspec": {
   "display_name": "fcgf",
   "language": "python",
   "name": "python3"
  },
  "language_info": {
   "codemirror_mode": {
    "name": "ipython",
    "version": 3
   },
   "file_extension": ".py",
   "mimetype": "text/x-python",
   "name": "python",
   "nbconvert_exporter": "python",
   "pygments_lexer": "ipython3",
   "version": "3.8.20"
  }
 },
 "nbformat": 4,
 "nbformat_minor": 4
}
